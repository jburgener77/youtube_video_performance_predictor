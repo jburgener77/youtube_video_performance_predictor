{
 "cells": [
  {
   "cell_type": "markdown",
   "metadata": {},
   "source": [
    "# Feature Engineering after Data Exploration"
   ]
  },
  {
   "cell_type": "markdown",
   "metadata": {},
   "source": [
    "After exploring some of the data, there remained several metrics that we were unable to explore due to formatting such as:\n",
    "- Text-based data with unique entries\n",
    "- Time-based data\n",
    "- Unstructed image-based data\n",
    "\n",
    "Therefore, it may now be worthwhile to generate new features that summarize the above metrics easier."
   ]
  },
  {
   "cell_type": "markdown",
   "metadata": {},
   "source": [
    "## Setup"
   ]
  },
  {
   "cell_type": "code",
   "execution_count": 2,
   "metadata": {},
   "outputs": [],
   "source": [
    "# Setup API\n",
    "from google.cloud import bigquery\n",
    "from google.oauth2 import service_account\n",
    "import pandas as pd\n",
    "import config as cfg\n",
    "import os\n",
    "\n",
    "sa_credentials = 'gpc/youtube-scraper-404402-a6dc21ea107a.json' # download from service_account page\n",
    "os.environ[\"GOOGLE_APPLICATION_CREDENTIALS\"] = sa_credentials\n",
    "\n",
    "credentials = service_account.Credentials.from_service_account_file(\n",
    "    sa_credentials, scopes=[\"https://www.googleapis.com/auth/cloud-platform\"]\n",
    ")\n",
    "\n",
    "bq_client = bigquery.Client(credentials=credentials, project=credentials.project_id)\n",
    "\n",
    "# Read tables into python\n",
    "query_string = \"\"\"\n",
    "SELECT \n",
    "    *\n",
    "FROM youtube-scraper-404402.yt_data.video_metrics_cleaned\n",
    "\"\"\"\n",
    "video_metrics_df = bq_client.query(query_string).to_dataframe()\n",
    "\n",
    "query_string = \"\"\"\n",
    "SELECT \n",
    "    *\n",
    "FROM youtube-scraper-404402.yt_data.video_comments_cleaned\n",
    "\"\"\"\n",
    "video_comments_df = bq_client.query(query_string).to_dataframe()"
   ]
  },
  {
   "cell_type": "code",
   "execution_count": 3,
   "metadata": {},
   "outputs": [
    {
     "data": {
      "text/html": [
       "<div>\n",
       "<style scoped>\n",
       "    .dataframe tbody tr th:only-of-type {\n",
       "        vertical-align: middle;\n",
       "    }\n",
       "\n",
       "    .dataframe tbody tr th {\n",
       "        vertical-align: top;\n",
       "    }\n",
       "\n",
       "    .dataframe thead th {\n",
       "        text-align: right;\n",
       "    }\n",
       "</style>\n",
       "<table border=\"1\" class=\"dataframe\">\n",
       "  <thead>\n",
       "    <tr style=\"text-align: right;\">\n",
       "      <th></th>\n",
       "      <th>int64_field_0</th>\n",
       "      <th>channel_name</th>\n",
       "      <th>video_id</th>\n",
       "      <th>title</th>\n",
       "      <th>published_at</th>\n",
       "      <th>description</th>\n",
       "      <th>thumbnail_url</th>\n",
       "      <th>tags</th>\n",
       "      <th>category_id</th>\n",
       "      <th>duration</th>\n",
       "      <th>view_count</th>\n",
       "      <th>like_count</th>\n",
       "      <th>fav_count</th>\n",
       "      <th>comment_count</th>\n",
       "    </tr>\n",
       "  </thead>\n",
       "  <tbody>\n",
       "    <tr>\n",
       "      <th>0</th>\n",
       "      <td>3</td>\n",
       "      <td>Why I Salty</td>\n",
       "      <td>K3s5zrG4t1c</td>\n",
       "      <td>Got a Job for you, 621: Mission 11 | Armored C...</td>\n",
       "      <td>2023-11-12 05:00:08+00:00</td>\n",
       "      <td>#armoredcore6 #bobthebuilder \\n\\nAI can only d...</td>\n",
       "      <td>https://i.ytimg.com/vi/K3s5zrG4t1c/default.jpg</td>\n",
       "      <td>['armored core', 'Gundam', 'Anime', 'ac6', 'Ga...</td>\n",
       "      <td>20</td>\n",
       "      <td>PT1M23S</td>\n",
       "      <td>4829</td>\n",
       "      <td>549</td>\n",
       "      <td>0</td>\n",
       "      <td>50</td>\n",
       "    </tr>\n",
       "    <tr>\n",
       "      <th>1</th>\n",
       "      <td>4</td>\n",
       "      <td>Why I Salty</td>\n",
       "      <td>HypJk4azqAE</td>\n",
       "      <td>Pepperidge Farm Remember | Armored Core VI</td>\n",
       "      <td>2023-11-11 03:58:05+00:00</td>\n",
       "      <td>#armoredcore6 #familyguy #asmongold \\n\\nJust t...</td>\n",
       "      <td>https://i.ytimg.com/vi/HypJk4azqAE/default.jpg</td>\n",
       "      <td>['armored core', 'Gundam', 'Anime', 'ac6', 'Ga...</td>\n",
       "      <td>20</td>\n",
       "      <td>PT22S</td>\n",
       "      <td>2524</td>\n",
       "      <td>239</td>\n",
       "      <td>0</td>\n",
       "      <td>24</td>\n",
       "    </tr>\n",
       "    <tr>\n",
       "      <th>2</th>\n",
       "      <td>14</td>\n",
       "      <td>Why I Salty</td>\n",
       "      <td>tsmFLhITvGY</td>\n",
       "      <td>Got a Job for you, 621: Mission 10 | Armored C...</td>\n",
       "      <td>2023-11-04 04:00:25+00:00</td>\n",
       "      <td>#armoredcore6 @SpongeBobOfficial \\n\\nDecided t...</td>\n",
       "      <td>https://i.ytimg.com/vi/tsmFLhITvGY/default.jpg</td>\n",
       "      <td>['armored core', 'Gundam', 'Anime', 'ac6', 'Ga...</td>\n",
       "      <td>20</td>\n",
       "      <td>PT2M3S</td>\n",
       "      <td>7127</td>\n",
       "      <td>613</td>\n",
       "      <td>0</td>\n",
       "      <td>37</td>\n",
       "    </tr>\n",
       "    <tr>\n",
       "      <th>3</th>\n",
       "      <td>17</td>\n",
       "      <td>Why I Salty</td>\n",
       "      <td>qls8YCcN8T4</td>\n",
       "      <td>WE DID IT!  Asmongold Reacted to EP3</td>\n",
       "      <td>2023-11-01 21:05:17+00:00</td>\n",
       "      <td>#armoredcore6 #asmongold #mcdonalds \\n\\nI neve...</td>\n",
       "      <td>https://i.ytimg.com/vi/qls8YCcN8T4/default.jpg</td>\n",
       "      <td>['armored core', 'Gundam', 'Anime', 'ac6', 'Ga...</td>\n",
       "      <td>20</td>\n",
       "      <td>PT8M37S</td>\n",
       "      <td>6187</td>\n",
       "      <td>912</td>\n",
       "      <td>0</td>\n",
       "      <td>61</td>\n",
       "    </tr>\n",
       "    <tr>\n",
       "      <th>4</th>\n",
       "      <td>19</td>\n",
       "      <td>Why I Salty</td>\n",
       "      <td>Hv_dkdAp8SQ</td>\n",
       "      <td>Not Part of Your World | Armored Core VI</td>\n",
       "      <td>2023-11-01 05:36:37+00:00</td>\n",
       "      <td>#armoredcore6 \\n\\nWhen i made the meme \"Booty ...</td>\n",
       "      <td>https://i.ytimg.com/vi/Hv_dkdAp8SQ/default.jpg</td>\n",
       "      <td>['armored core', 'Gundam', 'Anime', 'ac6', 'Ga...</td>\n",
       "      <td>20</td>\n",
       "      <td>PT1M29S</td>\n",
       "      <td>9400</td>\n",
       "      <td>939</td>\n",
       "      <td>0</td>\n",
       "      <td>91</td>\n",
       "    </tr>\n",
       "  </tbody>\n",
       "</table>\n",
       "</div>"
      ],
      "text/plain": [
       "   int64_field_0 channel_name     video_id  \\\n",
       "0              3  Why I Salty  K3s5zrG4t1c   \n",
       "1              4  Why I Salty  HypJk4azqAE   \n",
       "2             14  Why I Salty  tsmFLhITvGY   \n",
       "3             17  Why I Salty  qls8YCcN8T4   \n",
       "4             19  Why I Salty  Hv_dkdAp8SQ   \n",
       "\n",
       "                                               title  \\\n",
       "0  Got a Job for you, 621: Mission 11 | Armored C...   \n",
       "1         Pepperidge Farm Remember | Armored Core VI   \n",
       "2  Got a Job for you, 621: Mission 10 | Armored C...   \n",
       "3               WE DID IT!  Asmongold Reacted to EP3   \n",
       "4           Not Part of Your World | Armored Core VI   \n",
       "\n",
       "               published_at  \\\n",
       "0 2023-11-12 05:00:08+00:00   \n",
       "1 2023-11-11 03:58:05+00:00   \n",
       "2 2023-11-04 04:00:25+00:00   \n",
       "3 2023-11-01 21:05:17+00:00   \n",
       "4 2023-11-01 05:36:37+00:00   \n",
       "\n",
       "                                         description  \\\n",
       "0  #armoredcore6 #bobthebuilder \\n\\nAI can only d...   \n",
       "1  #armoredcore6 #familyguy #asmongold \\n\\nJust t...   \n",
       "2  #armoredcore6 @SpongeBobOfficial \\n\\nDecided t...   \n",
       "3  #armoredcore6 #asmongold #mcdonalds \\n\\nI neve...   \n",
       "4  #armoredcore6 \\n\\nWhen i made the meme \"Booty ...   \n",
       "\n",
       "                                    thumbnail_url  \\\n",
       "0  https://i.ytimg.com/vi/K3s5zrG4t1c/default.jpg   \n",
       "1  https://i.ytimg.com/vi/HypJk4azqAE/default.jpg   \n",
       "2  https://i.ytimg.com/vi/tsmFLhITvGY/default.jpg   \n",
       "3  https://i.ytimg.com/vi/qls8YCcN8T4/default.jpg   \n",
       "4  https://i.ytimg.com/vi/Hv_dkdAp8SQ/default.jpg   \n",
       "\n",
       "                                                tags  category_id duration  \\\n",
       "0  ['armored core', 'Gundam', 'Anime', 'ac6', 'Ga...           20  PT1M23S   \n",
       "1  ['armored core', 'Gundam', 'Anime', 'ac6', 'Ga...           20    PT22S   \n",
       "2  ['armored core', 'Gundam', 'Anime', 'ac6', 'Ga...           20   PT2M3S   \n",
       "3  ['armored core', 'Gundam', 'Anime', 'ac6', 'Ga...           20  PT8M37S   \n",
       "4  ['armored core', 'Gundam', 'Anime', 'ac6', 'Ga...           20  PT1M29S   \n",
       "\n",
       "   view_count  like_count  fav_count  comment_count  \n",
       "0        4829         549          0             50  \n",
       "1        2524         239          0             24  \n",
       "2        7127         613          0             37  \n",
       "3        6187         912          0             61  \n",
       "4        9400         939          0             91  "
      ]
     },
     "execution_count": 3,
     "metadata": {},
     "output_type": "execute_result"
    }
   ],
   "source": [
    "video_metrics_df.head()"
   ]
  },
  {
   "cell_type": "code",
   "execution_count": 4,
   "metadata": {},
   "outputs": [
    {
     "data": {
      "text/html": [
       "<div>\n",
       "<style scoped>\n",
       "    .dataframe tbody tr th:only-of-type {\n",
       "        vertical-align: middle;\n",
       "    }\n",
       "\n",
       "    .dataframe tbody tr th {\n",
       "        vertical-align: top;\n",
       "    }\n",
       "\n",
       "    .dataframe thead th {\n",
       "        text-align: right;\n",
       "    }\n",
       "</style>\n",
       "<table border=\"1\" class=\"dataframe\">\n",
       "  <thead>\n",
       "    <tr style=\"text-align: right;\">\n",
       "      <th></th>\n",
       "      <th>int64_field_0</th>\n",
       "      <th>video_id</th>\n",
       "      <th>video_comment</th>\n",
       "      <th>video_comment_user</th>\n",
       "      <th>video_comment_time</th>\n",
       "      <th>video_comment_parent_id</th>\n",
       "      <th>video_comment_child_id</th>\n",
       "    </tr>\n",
       "  </thead>\n",
       "  <tbody>\n",
       "    <tr>\n",
       "      <th>0</th>\n",
       "      <td>0</td>\n",
       "      <td>HqNMNXa7REY</td>\n",
       "      <td>Good luck trying out the Charge Blade. Transfo...</td>\n",
       "      <td>Gobo KoboObo</td>\n",
       "      <td>2023-11-15 05:10:21+00:00</td>\n",
       "      <td>UgzWhoTNYW-C1nD1Lm94AaABAg</td>\n",
       "      <td>0</td>\n",
       "    </tr>\n",
       "    <tr>\n",
       "      <th>1</th>\n",
       "      <td>1</td>\n",
       "      <td>P1a3DEpvFeE</td>\n",
       "      <td>Nice, good luck on the rest of your journey, s...</td>\n",
       "      <td>Diego Cantu</td>\n",
       "      <td>2023-11-14 03:48:22+00:00</td>\n",
       "      <td>Ugx5R_BBSeGsBuC3AN54AaABAg</td>\n",
       "      <td>0</td>\n",
       "    </tr>\n",
       "    <tr>\n",
       "      <th>2</th>\n",
       "      <td>2</td>\n",
       "      <td>P1a3DEpvFeE</td>\n",
       "      <td>Stream died?</td>\n",
       "      <td>Gobo KoboObo</td>\n",
       "      <td>2023-11-14 01:46:07+00:00</td>\n",
       "      <td>Ugx4-6nI0vtlaGv735d4AaABAg</td>\n",
       "      <td>0</td>\n",
       "    </tr>\n",
       "    <tr>\n",
       "      <th>3</th>\n",
       "      <td>3</td>\n",
       "      <td>P1a3DEpvFeE</td>\n",
       "      <td>lel so it wasn't just me then XD</td>\n",
       "      <td>Kuruwa Yoshiko</td>\n",
       "      <td>2023-11-14 01:47:07+00:00</td>\n",
       "      <td>Ugx4-6nI0vtlaGv735d4AaABAg</td>\n",
       "      <td>Ugx4-6nI0vtlaGv735d4AaABAg.9x4SL68zJEO9x4SSUbjmUM</td>\n",
       "    </tr>\n",
       "    <tr>\n",
       "      <th>4</th>\n",
       "      <td>4</td>\n",
       "      <td>P1a3DEpvFeE</td>\n",
       "      <td>@Kuruwa Yoshiko Thought it was my internet.</td>\n",
       "      <td>Gobo KoboObo</td>\n",
       "      <td>2023-11-14 01:50:20+00:00</td>\n",
       "      <td>Ugx4-6nI0vtlaGv735d4AaABAg</td>\n",
       "      <td>Ugx4-6nI0vtlaGv735d4AaABAg.9x4SL68zJEO9x4Sp7-cGGN</td>\n",
       "    </tr>\n",
       "  </tbody>\n",
       "</table>\n",
       "</div>"
      ],
      "text/plain": [
       "   int64_field_0     video_id  \\\n",
       "0              0  HqNMNXa7REY   \n",
       "1              1  P1a3DEpvFeE   \n",
       "2              2  P1a3DEpvFeE   \n",
       "3              3  P1a3DEpvFeE   \n",
       "4              4  P1a3DEpvFeE   \n",
       "\n",
       "                                       video_comment video_comment_user  \\\n",
       "0  Good luck trying out the Charge Blade. Transfo...       Gobo KoboObo   \n",
       "1  Nice, good luck on the rest of your journey, s...        Diego Cantu   \n",
       "2                                       Stream died?       Gobo KoboObo   \n",
       "3                   lel so it wasn't just me then XD     Kuruwa Yoshiko   \n",
       "4        @Kuruwa Yoshiko Thought it was my internet.       Gobo KoboObo   \n",
       "\n",
       "         video_comment_time     video_comment_parent_id  \\\n",
       "0 2023-11-15 05:10:21+00:00  UgzWhoTNYW-C1nD1Lm94AaABAg   \n",
       "1 2023-11-14 03:48:22+00:00  Ugx5R_BBSeGsBuC3AN54AaABAg   \n",
       "2 2023-11-14 01:46:07+00:00  Ugx4-6nI0vtlaGv735d4AaABAg   \n",
       "3 2023-11-14 01:47:07+00:00  Ugx4-6nI0vtlaGv735d4AaABAg   \n",
       "4 2023-11-14 01:50:20+00:00  Ugx4-6nI0vtlaGv735d4AaABAg   \n",
       "\n",
       "                              video_comment_child_id  \n",
       "0                                                  0  \n",
       "1                                                  0  \n",
       "2                                                  0  \n",
       "3  Ugx4-6nI0vtlaGv735d4AaABAg.9x4SL68zJEO9x4SSUbjmUM  \n",
       "4  Ugx4-6nI0vtlaGv735d4AaABAg.9x4SL68zJEO9x4Sp7-cGGN  "
      ]
     },
     "execution_count": 4,
     "metadata": {},
     "output_type": "execute_result"
    }
   ],
   "source": [
    "video_comments_df.head()"
   ]
  },
  {
   "cell_type": "markdown",
   "metadata": {},
   "source": [
    "## Text-based Features"
   ]
  },
  {
   "cell_type": "markdown",
   "metadata": {},
   "source": [
    "For both tables, let's look at how we can extract meaninful information from:\n",
    "- Video Title\n",
    "- Video Description\n",
    "- Video Tags\n",
    "- Video Comments"
   ]
  },
  {
   "cell_type": "markdown",
   "metadata": {},
   "source": [
    "### Video Title"
   ]
  },
  {
   "cell_type": "markdown",
   "metadata": {},
   "source": [
    "Let's look at the first 10 video titles:"
   ]
  },
  {
   "cell_type": "code",
   "execution_count": 5,
   "metadata": {},
   "outputs": [
    {
     "name": "stdout",
     "output_type": "stream",
     "text": [
      "Got a Job for you, 621: Mission 11 | Armored Core VI\n",
      "Pepperidge Farm Remember | Armored Core VI\n",
      "Got a Job for you, 621: Mission 10 | Armored Core VI\n",
      "WE DID IT!  Asmongold Reacted to EP3\n",
      "Not Part of Your World | Armored Core VI\n",
      "So Close Yet So Far | Asmongold No React\n",
      "What does the Raven Say? | Armored Core VI\n",
      "Got a Job for you, 621: Mission 9 | Armored Core VI\n",
      "Got a Job for you, 621: Mission 8 | Armored Core VI\n",
      "Got a Job for you, 621: Mission 7 | Armored Core VI\n"
     ]
    }
   ],
   "source": [
    "for title in video_metrics_df['title'].head(10):\n",
    "    print(title)"
   ]
  },
  {
   "cell_type": "markdown",
   "metadata": {},
   "source": [
    "It seems like videos might contain the subject matter in the title (such as which video game is being played), let's explore that in more detail."
   ]
  },
  {
   "cell_type": "code",
   "execution_count": 6,
   "metadata": {},
   "outputs": [
    {
     "data": {
      "text/plain": [
       "subject_matter\n",
       "None                              390\n",
       "Armored Core VI                    29\n",
       "Eternal Card Game                  23\n",
       "Titan Core                         22\n",
       "Mechabellum                        10\n",
       "Monster Hunter World [STREAM]       4\n",
       "Mechabellum [STREAM]                3\n",
       "Titian Core                         3\n",
       "Armored Core 2 [STREAM]             3\n",
       "Armored Core VI [STREAM]            2\n",
       "Armored Core 3 [STREAM]             2\n",
       "Eternal Card Game [STREAM]          2\n",
       "Titan Fall 2 [STREAM]               1\n",
       "Titan Core (My Game)                1\n",
       "Spell Slingers                      1\n",
       "Monster Hunter World                1\n",
       "Armored Core 2 [FINALE STREAM]      1\n",
       "MGS3 Snake Eater                    1\n",
       "Mecabellum [STREAM]                 1\n",
       "MSG BOP 2 [STREAM]                  1\n",
       "League of Legends                   1\n",
       "Asmongold Reacts                    1\n",
       "Asmongold No React                  1\n",
       "Armored Core Vi[STREAM]             1\n",
       "Armored Core 3[STREAM]              1\n",
       "Armored Core 2 [Stream]             1\n",
       "YT Stream                           1\n",
       "dtype: int64"
      ]
     },
     "execution_count": 6,
     "metadata": {},
     "output_type": "execute_result"
    }
   ],
   "source": [
    "video_titles = video_metrics_df['title']\n",
    "subject_matter = []\n",
    "for title in video_titles:\n",
    "    if ' | ' in title:\n",
    "        subject_matter.append(title.split(' | ')[1])\n",
    "    else:\n",
    "        subject_matter.append('None')\n",
    "video_metrics_df['subject_matter'] = subject_matter\n",
    "video_metrics_df.value_counts('subject_matter')\n"
   ]
  },
  {
   "cell_type": "markdown",
   "metadata": {},
   "source": [
    "We may need to reformat some of these for consistency, but let's also make sure that we're not missing anything for titles labeled as 'None'"
   ]
  },
  {
   "cell_type": "code",
   "execution_count": 7,
   "metadata": {},
   "outputs": [
    {
     "data": {
      "text/plain": [
       "3                   WE DID IT!  Asmongold Reacted to EP3\n",
       "15                                          Ugh, Fine...\n",
       "17                                        Raven Please..\n",
       "18     Got a Job For you 621 (6) #armoredcore6 #armor...\n",
       "19           How I clone voices for AC6 (Not a Tutorial)\n",
       "                             ...                        \n",
       "496    Money Brew - Clockroach Prophecy [Eternal Card...\n",
       "497       Money Brew - Jurassic Park [Eternal Card Game]\n",
       "499                                           Thanks You\n",
       "500    Got a Job For you 621 (4) #armoredcore6 #armor...\n",
       "501    Salty Brew - Subversion of Dichro [Eternal Car...\n",
       "Name: title, Length: 390, dtype: object"
      ]
     },
     "execution_count": 7,
     "metadata": {},
     "output_type": "execute_result"
    }
   ],
   "source": [
    "video_metrics_df[video_metrics_df['subject_matter'] == 'None']['title']"
   ]
  },
  {
   "cell_type": "markdown",
   "metadata": {},
   "source": [
    "It looks like that other videos contain the subject matter as hashtags or enclosed in square brackets. Since there are multiple hashtags in a title, we'll need to ingnores those are try to look in the tags section insted, however let's try to pull out those enclosed in square brackets."
   ]
  },
  {
   "cell_type": "code",
   "execution_count": 8,
   "metadata": {},
   "outputs": [
    {
     "data": {
      "text/plain": [
       "subject_matter\n",
       "Eternal Card Game                 282\n",
       "None                               77\n",
       "Armored Core VI                    29\n",
       "Titan Core                         22\n",
       "Mythgard                           16\n",
       "Mechabellum                        10\n",
       "Legend of Runeterra                 9\n",
       "STREAM                              7\n",
       "Monster Hunter World [STREAM]       4\n",
       "Mechabellum [STREAM]                3\n",
       "YGO Master Duel                     3\n",
       "Titian Core                         3\n",
       "MTG Arena                           3\n",
       "MTG ARENA                           3\n",
       "Armored Core 2 [STREAM]             3\n",
       "Throne                              3\n",
       "Gods Unchained                      2\n",
       "Storybook Brawl                     2\n",
       "Eternal Card Game [STREAM]          2\n",
       "Armored Core VI [STREAM]            2\n",
       "Armored Core 3 [STREAM]             2\n",
       "Spell Slingers                      1\n",
       "Mythgard Card Game                  1\n",
       "Monster Hunter World                1\n",
       "Titan Core (My Game)                1\n",
       "Titan Fall 2 [STREAM]               1\n",
       "Armored Core 2 [FINALE STREAM]      1\n",
       "MSG BOP 2 [STREAM]                  1\n",
       "Mecabellum [STREAM]                 1\n",
       "MGS3 Snake Eater                    1\n",
       "Legend of Runterra                  1\n",
       "League of Legends                   1\n",
       "Hearthstone Classic                 1\n",
       "Hearthstone Battleground            1\n",
       "Hearthstone                         1\n",
       "Eternal card game                   1\n",
       "Asmongold Reacts                    1\n",
       "Asmongold No React                  1\n",
       "Armored Core Vi[STREAM]             1\n",
       "Armored Core 3[STREAM]              1\n",
       "Armored Core 2 [Stream]             1\n",
       "YT Stream                           1\n",
       "dtype: int64"
      ]
     },
     "execution_count": 8,
     "metadata": {},
     "output_type": "execute_result"
    }
   ],
   "source": [
    "import re\n",
    "\n",
    "video_titles = video_metrics_df['title']\n",
    "subject_matter = []\n",
    "for title in video_titles:\n",
    "    if ' | ' in title:\n",
    "        subject_matter.append(title.split(' | ')[1])\n",
    "    elif '[' in title and ']' in title:\n",
    "        subject_matter.append(re.sub('.*.\\[', '', re.sub('\\].*.|\\]', '', title)))\n",
    "    else:\n",
    "        subject_matter.append('None')\n",
    "        \n",
    "video_metrics_df['subject_matter'] = subject_matter\n",
    "video_metrics_df.value_counts('subject_matter')"
   ]
  },
  {
   "cell_type": "markdown",
   "metadata": {},
   "source": [
    "Now we've significantly reduced the number of videos with no subject matter as it looks like videos based on the Eternal Card Game were enclosed in square brackets. Again, let's check if there is anything else that needs to be extracted from titles with no subject matter."
   ]
  },
  {
   "cell_type": "code",
   "execution_count": 9,
   "metadata": {},
   "outputs": [
    {
     "data": {
      "text/plain": [
       "3                   WE DID IT!  Asmongold Reacted to EP3\n",
       "15                                          Ugh, Fine...\n",
       "17                                        Raven Please..\n",
       "18     Got a Job For you 621 (6) #armoredcore6 #armor...\n",
       "19           How I clone voices for AC6 (Not a Tutorial)\n",
       "20     Got a Job For you 621 (5) #armoredcore6 #armor...\n",
       "30          Time to Choose Raven (A.I Voice Test Ver 2).\n",
       "31                        MegasXLR + Armored Core 6 (PC)\n",
       "32          Raven Don't Listen to Ayre (A.I Voice Test).\n",
       "33                Gods Unchained - Selling my first card\n",
       "40                                  Mechabellum 7/5/2023\n",
       "42                                 Mechbellum First Try!\n",
       "51           Project Champion - Light the Fuse (eternal)\n",
       "52     Project Champion - Updated my Deck Editor & Do...\n",
       "53                                 I Have Pateron Now!!!\n",
       "54       HearthSalt Battle Grounds - Dancing with Demons\n",
       "55     HearthSalt Battlegrounds - I have no idea what...\n",
       "57                               Eternal Stream 7/4/2023\n",
       "58                           Mechabellum Stream 07/03/23\n",
       "63              Hey Check out my brother gaming channel!\n",
       "65            Project Champion - Added Unit positioning.\n",
       "74      Wow Classic - Someone is bringing a dragon to SW\n",
       "75                                TFT - Salty vs Mr Claw\n",
       "76                          Gods Unchained - Viking Raid\n",
       "77                        Gods Unchained - Death Starter\n",
       "82                      Project Champions - More Testing\n",
       "83         Project Champions - Testing with DarthNixilis\n",
       "86                        Hearthstone - Here we go again\n",
       "87              Project Champion - Blood Moon (Mythgard)\n",
       "88             Project Champion - Horus Traver (eternal)\n",
       "90          This is why we don't rope people. (No audio)\n",
       "91                                        Milos Monstars\n",
       "95       Eternal Tournament recording test (Salty Games)\n",
       "100                       Eternal Stream 7/4/2023 part 2\n",
       "103                Salty Rant - Expedition Format Update\n",
       "Name: title, dtype: object"
      ]
     },
     "execution_count": 9,
     "metadata": {},
     "output_type": "execute_result"
    }
   ],
   "source": [
    "video_metrics_df[video_metrics_df['subject_matter'] == 'None']['title'].head(35)"
   ]
  },
  {
   "cell_type": "code",
   "execution_count": 10,
   "metadata": {},
   "outputs": [
    {
     "data": {
      "text/plain": [
       "187                       Gods Unchained - Magic Starter\n",
       "193                      Why I Valorant? - Beta Brothers\n",
       "202                               Eternal Stream 7/5/203\n",
       "207                                        True Rockstar\n",
       "208                                    DRAW NICO CADO!!!\n",
       "209                                    My Test Broadcast\n",
       "219                                   100 Subscribers!!!\n",
       "220                  I believe in the heart of the cards\n",
       "223                          Project Champion my own DCG\n",
       "266                               Armor Core VI Stream 1\n",
       "267                            I'm a filthily casual now\n",
       "279                       Gods Unchained - Light Starter\n",
       "280        Project Champion - Geminon's Choice (eternal)\n",
       "284    I became partnered in Mythgard + 100 packs ope...\n",
       "287                                Titan Core Needs You!\n",
       "291                   Gods Unchained - First Impressions\n",
       "292           Eternal - Seneschal of Light combo Attempt\n",
       "327                      Sallty Brew - Stonescar Mastery\n",
       "334            Why I Valorant? - How to throw a lead 101\n",
       "350                    Decided to buy Collector on Udyr.\n",
       "359        Monster Hunter Freedom Shorts 1-3 (2007-2009)\n",
       "377                    Gods Unchained - Decetion Starter\n",
       "381                      Project Champions - Help Wanted\n",
       "413    Got A Job For You 621 (1) #armoredcore6 #armor...\n",
       "415               Gods Unchained - Nature & War Starters\n",
       "416         Project Champions - My own digital card game\n",
       "432                        I just can’t wait any longer!\n",
       "446                     Mythgard - Parsa Gauntlet Part 1\n",
       "458    How i felt when i finally cast Lastlight judge...\n",
       "459    Got a Job For you 621 (3) #armoredcore6 #armor...\n",
       "460    Got a Job For you 621 (2) #armoredcore6 #armor...\n",
       "467                      Vanguard Bandits Playthrough #1\n",
       "473                    Eternal - Geminon mastery attempt\n",
       "499                                           Thanks You\n",
       "500    Got a Job For you 621 (4) #armoredcore6 #armor...\n",
       "Name: title, dtype: object"
      ]
     },
     "execution_count": 10,
     "metadata": {},
     "output_type": "execute_result"
    }
   ],
   "source": [
    "video_metrics_df[video_metrics_df['subject_matter'] == 'None']['title'].tail(35)"
   ]
  },
  {
   "cell_type": "markdown",
   "metadata": {},
   "source": [
    "It looks like some videos also have the subject matter prior to the title, seperated by the '-' character. Let's try to grab those and then take a look at the final list."
   ]
  },
  {
   "cell_type": "code",
   "execution_count": 11,
   "metadata": {},
   "outputs": [
    {
     "data": {
      "text/plain": [
       "subject_matter\n",
       "Eternal Card Game                 282\n",
       "None                               46\n",
       "Armored Core VI                    29\n",
       "Titan Core                         22\n",
       "Mythgard                           17\n",
       "Mechabellum                        10\n",
       "Gods Unchained                     10\n",
       "Legend of Runeterra                 9\n",
       "STREAM                              7\n",
       "Project Champion                    6\n",
       "Project Champions                   5\n",
       "Monster Hunter World [STREAM]       4\n",
       "Mechabellum [STREAM]                3\n",
       "Armored Core 2 [STREAM]             3\n",
       "MTG ARENA                           3\n",
       "MTG Arena                           3\n",
       "Throne                              3\n",
       "YGO Master Duel                     3\n",
       "Titian Core                         3\n",
       "Hearthstone                         2\n",
       "Armored Core 3 [STREAM]             2\n",
       "Armored Core VI [STREAM]            2\n",
       "Why I Valorant?                     2\n",
       "Eternal                             2\n",
       "Eternal Card Game [STREAM]          2\n",
       "Storybook Brawl                     2\n",
       "Sallty Brew                         1\n",
       "Titan Fall 2 [STREAM]               1\n",
       "Salty Rant                          1\n",
       "Spell Slingers                      1\n",
       "Wow Classic                         1\n",
       "TFT                                 1\n",
       "Titan Core (My Game)                1\n",
       "Armored Core 2 [FINALE STREAM]      1\n",
       "Mythgard Card Game                  1\n",
       "Monster Hunter World                1\n",
       "Armored Core 2 [Stream]             1\n",
       "Armored Core 3[STREAM]              1\n",
       "Armored Core Vi[STREAM]             1\n",
       "Asmongold No React                  1\n",
       "Asmongold Reacts                    1\n",
       "Eternal card game                   1\n",
       "HearthSalt Battle Grounds           1\n",
       "HearthSalt Battlegrounds            1\n",
       "Hearthstone Battleground            1\n",
       "Hearthstone Classic                 1\n",
       "League of Legends                   1\n",
       "Legend of Runterra                  1\n",
       "MGS3 Snake Eater                    1\n",
       "MSG BOP 2 [STREAM]                  1\n",
       "Mecabellum [STREAM]                 1\n",
       "YT Stream                           1\n",
       "dtype: int64"
      ]
     },
     "execution_count": 11,
     "metadata": {},
     "output_type": "execute_result"
    }
   ],
   "source": [
    "video_titles = video_metrics_df['title']\n",
    "subject_matter = []\n",
    "for title in video_titles:\n",
    "    if ' | ' in title:\n",
    "        subject_matter.append(title.split(' | ')[1])\n",
    "    elif '[' in title and ']' in title:\n",
    "        subject_matter.append(re.sub('.*.\\[', '', re.sub('\\].*.|\\]', '', title)))\n",
    "    elif ' - ' in title:\n",
    "        subject_matter.append(re.sub(' - .*.', '', title))\n",
    "    else:\n",
    "        subject_matter.append('None')\n",
    "        \n",
    "video_metrics_df['subject_matter'] = subject_matter\n",
    "video_metrics_df.value_counts('subject_matter')"
   ]
  },
  {
   "cell_type": "markdown",
   "metadata": {},
   "source": [
    "Let's look at titles with 'None' for subject title one more time and see if we can simply pull keywords."
   ]
  },
  {
   "cell_type": "code",
   "execution_count": 12,
   "metadata": {},
   "outputs": [
    {
     "data": {
      "text/plain": [
       "['WE DID IT!  Asmongold Reacted to EP3',\n",
       " 'Ugh, Fine...',\n",
       " 'Raven Please..',\n",
       " 'Got a Job For you 621 (6) #armoredcore6 #armoredcore #gaming',\n",
       " 'How I clone voices for AC6 (Not a Tutorial)',\n",
       " 'Got a Job For you 621 (5) #armoredcore6 #armoredcore #gaming',\n",
       " 'Time to Choose Raven (A.I Voice Test Ver 2).',\n",
       " 'MegasXLR + Armored Core 6 (PC)',\n",
       " \"Raven Don't Listen to Ayre (A.I Voice Test).\",\n",
       " 'Mechabellum 7/5/2023',\n",
       " 'Mechbellum First Try!',\n",
       " 'I Have Pateron Now!!!',\n",
       " 'Eternal Stream 7/4/2023',\n",
       " 'Mechabellum Stream 07/03/23',\n",
       " 'Hey Check out my brother gaming channel!',\n",
       " \"This is why we don't rope people. (No audio)\",\n",
       " 'Milos Monstars',\n",
       " 'Eternal Tournament recording test (Salty Games)',\n",
       " 'Eternal Stream 7/4/2023 part 2',\n",
       " 'When they nerf they will nerf it hard.',\n",
       " 'Eternal Stream 06/18/23',\n",
       " 'Vanguard Bandits Playthrough #2',\n",
       " 'Eternal Stream 06/19/23',\n",
       " 'Lynax Combo',\n",
       " 'The nerfs of EHG',\n",
       " 'Eternal Stream 7/5/203',\n",
       " 'True Rockstar',\n",
       " 'DRAW NICO CADO!!!',\n",
       " 'My Test Broadcast',\n",
       " '100 Subscribers!!!',\n",
       " 'I believe in the heart of the cards',\n",
       " 'Project Champion my own DCG',\n",
       " 'Armor Core VI Stream 1',\n",
       " \"I'm a filthily casual now\",\n",
       " 'I became partnered in Mythgard + 100 packs opening',\n",
       " 'Titan Core Needs You!',\n",
       " 'Decided to buy Collector on Udyr.',\n",
       " 'Monster Hunter Freedom Shorts 1-3 (2007-2009)',\n",
       " 'Got A Job For You 621 (1) #armoredcore6 #armoredcore',\n",
       " 'I just can’t wait any longer!',\n",
       " 'How i felt when i finally cast Lastlight judgement in a game',\n",
       " 'Got a Job For you 621 (3) #armoredcore6 #armoredcore #gaming',\n",
       " 'Got a Job For you 621 (2) #armoredcore6 #armoredcore #gaming',\n",
       " 'Vanguard Bandits Playthrough #1',\n",
       " 'Thanks You',\n",
       " 'Got a Job For you 621 (4) #armoredcore6 #armoredcore #gaming']"
      ]
     },
     "execution_count": 12,
     "metadata": {},
     "output_type": "execute_result"
    }
   ],
   "source": [
    "video_metrics_df[video_metrics_df['subject_matter'] == 'None']['title'].to_list()"
   ]
  },
  {
   "cell_type": "markdown",
   "metadata": {},
   "source": [
    "Based on the above and the subject matter list, we can pull the following:\n",
    "- Armored Core\n",
    "- Mechabellum\n",
    "- Eternal\n",
    "- Project Champion\n",
    "- Mythgard\n",
    "- Titan Core\n",
    "- Monster Hunter\n",
    "\n",
    "There are some typos for some of these titles but we'll leave them alone as that may potentially influence the YouTube algorithm."
   ]
  },
  {
   "cell_type": "code",
   "execution_count": 13,
   "metadata": {},
   "outputs": [
    {
     "data": {
      "text/plain": [
       "subject_matter\n",
       "Eternal Card Game                 288\n",
       "Armored Core VI                    29\n",
       "None                               27\n",
       "Titan Core                         23\n",
       "Mythgard                           18\n",
       "Mechabellum                        12\n",
       "Gods Unchained                     10\n",
       "Legend of Runeterra                 9\n",
       "Armored Core                        7\n",
       "Project Champion                    7\n",
       "STREAM                              7\n",
       "Project Champions                   5\n",
       "Monster Hunter World [STREAM]       4\n",
       "Throne                              3\n",
       "Mechabellum [STREAM]                3\n",
       "Titian Core                         3\n",
       "YGO Master Duel                     3\n",
       "MTG ARENA                           3\n",
       "MTG Arena                           3\n",
       "Armored Core 2 [STREAM]             3\n",
       "Armored Core 3 [STREAM]             2\n",
       "Storybook Brawl                     2\n",
       "Eternal                             2\n",
       "Eternal Card Game [STREAM]          2\n",
       "Armored Core VI [STREAM]            2\n",
       "Why I Valorant?                     2\n",
       "Hearthstone                         2\n",
       "Armored Core 2 [Stream]             1\n",
       "Titan Fall 2 [STREAM]               1\n",
       "Titan Core (My Game)                1\n",
       "Armored Core Vi[STREAM]             1\n",
       "Armored Core 3[STREAM]              1\n",
       "TFT                                 1\n",
       "Spell Slingers                      1\n",
       "Wow Classic                         1\n",
       "Salty Rant                          1\n",
       "Sallty Brew                         1\n",
       "Hearthstone Battleground            1\n",
       "Asmongold Reacts                    1\n",
       "Asmongold No React                  1\n",
       "Hearthstone Classic                 1\n",
       "Mythgard Card Game                  1\n",
       "Monster Hunter World                1\n",
       "Monster Hunter                      1\n",
       "Eternal card game                   1\n",
       "HearthSalt Battle Grounds           1\n",
       "Mecabellum [STREAM]                 1\n",
       "Armored Core 2 [FINALE STREAM]      1\n",
       "HearthSalt Battlegrounds            1\n",
       "MSG BOP 2 [STREAM]                  1\n",
       "MGS3 Snake Eater                    1\n",
       "Legend of Runterra                  1\n",
       "League of Legends                   1\n",
       "YT Stream                           1\n",
       "dtype: int64"
      ]
     },
     "execution_count": 13,
     "metadata": {},
     "output_type": "execute_result"
    }
   ],
   "source": [
    "video_titles = video_metrics_df['title']\n",
    "subject_matter = []\n",
    "for title in video_titles:\n",
    "    if ' | ' in title:\n",
    "        subject_matter.append(title.split(' | ')[1])\n",
    "    elif '[' in title and ']' in title:\n",
    "        subject_matter.append(re.sub('.*.\\[', '', re.sub('\\].*.|\\]', '', title)))\n",
    "    elif ' - ' in title:\n",
    "        subject_matter.append(re.sub(' - .*.', '', title))\n",
    "    elif 'armored' in title.lower():\n",
    "        subject_matter.append('Armored Core')\n",
    "    elif 'mechabellum' in title.lower():\n",
    "        subject_matter.append('Mechabellum')\n",
    "    elif 'eternal' in title.lower():\n",
    "        subject_matter.append('Eternal Card Game')\n",
    "    elif 'project champion' in title.lower():\n",
    "        subject_matter.append('Project Champion')\n",
    "    elif 'mythgard' in title.lower():\n",
    "        subject_matter.append('Mythgard')\n",
    "    elif 'titan core' in title.lower():\n",
    "        subject_matter.append('Titan Core')\n",
    "    elif 'monster hunter' in title.lower():\n",
    "        subject_matter.append('Monster Hunter')\n",
    "    else:\n",
    "        subject_matter.append('None')\n",
    "        \n",
    "video_metrics_df['subject_matter'] = subject_matter\n",
    "video_metrics_df.value_counts('subject_matter')"
   ]
  },
  {
   "cell_type": "markdown",
   "metadata": {},
   "source": [
    "One last sanity check for videos with no subject matter in the title:"
   ]
  },
  {
   "cell_type": "code",
   "execution_count": 14,
   "metadata": {},
   "outputs": [
    {
     "data": {
      "text/plain": [
       "['WE DID IT!  Asmongold Reacted to EP3',\n",
       " 'Ugh, Fine...',\n",
       " 'Raven Please..',\n",
       " 'How I clone voices for AC6 (Not a Tutorial)',\n",
       " 'Time to Choose Raven (A.I Voice Test Ver 2).',\n",
       " \"Raven Don't Listen to Ayre (A.I Voice Test).\",\n",
       " 'Mechbellum First Try!',\n",
       " 'I Have Pateron Now!!!',\n",
       " 'Hey Check out my brother gaming channel!',\n",
       " \"This is why we don't rope people. (No audio)\",\n",
       " 'Milos Monstars',\n",
       " 'When they nerf they will nerf it hard.',\n",
       " 'Vanguard Bandits Playthrough #2',\n",
       " 'Lynax Combo',\n",
       " 'The nerfs of EHG',\n",
       " 'True Rockstar',\n",
       " 'DRAW NICO CADO!!!',\n",
       " 'My Test Broadcast',\n",
       " '100 Subscribers!!!',\n",
       " 'I believe in the heart of the cards',\n",
       " 'Armor Core VI Stream 1',\n",
       " \"I'm a filthily casual now\",\n",
       " 'Decided to buy Collector on Udyr.',\n",
       " 'I just can’t wait any longer!',\n",
       " 'How i felt when i finally cast Lastlight judgement in a game',\n",
       " 'Vanguard Bandits Playthrough #1',\n",
       " 'Thanks You']"
      ]
     },
     "execution_count": 14,
     "metadata": {},
     "output_type": "execute_result"
    }
   ],
   "source": [
    "video_metrics_df[video_metrics_df['subject_matter'] == 'None']['title'].to_list()"
   ]
  },
  {
   "cell_type": "markdown",
   "metadata": {},
   "source": [
    "Great! Let's also clean up the subject matter for topics with 5 or more videos, the rest we can classify as 'Misc.'."
   ]
  },
  {
   "cell_type": "code",
   "execution_count": 15,
   "metadata": {},
   "outputs": [
    {
     "data": {
      "text/plain": [
       "Eternal Card Game      293\n",
       "Armored Core            47\n",
       "Misc.                   34\n",
       "None                    27\n",
       "Titan Core              24\n",
       "Mythgard                18\n",
       "Mechabellum             15\n",
       "Project Champions       12\n",
       "Gods Unchained          10\n",
       "Legend of Runeterra      9\n",
       "STREAM                   7\n",
       "Monster Hunter           6\n",
       "MTG Arena                6\n",
       "Name: subject_matter, dtype: int64"
      ]
     },
     "execution_count": 15,
     "metadata": {},
     "output_type": "execute_result"
    }
   ],
   "source": [
    "# Clean up variations of each subject matter\n",
    "video_metrics_df.loc[video_metrics_df['subject_matter'].str.contains('Eternal'), 'subject_matter'] = 'Eternal Card Game'\n",
    "video_metrics_df.loc[video_metrics_df['subject_matter'].str.contains('Armored Core'), 'subject_matter']= 'Armored Core'\n",
    "video_metrics_df.loc[video_metrics_df['subject_matter'].str.contains('Titan Core'), 'subject_matter'] = 'Titan Core'\n",
    "video_metrics_df.loc[video_metrics_df['subject_matter'].str.contains('Mechabellum'), 'subject_matter'] = 'Mechabellum'\n",
    "video_metrics_df.loc[video_metrics_df['subject_matter'].str.contains('Project Champion'), 'subject_matter']= 'Project Champions'\n",
    "video_metrics_df.loc[video_metrics_df['subject_matter'].str.contains('Monster Hunter'), 'subject_matter'] = 'Monster Hunter'\n",
    "video_metrics_df.loc[video_metrics_df['subject_matter'].str.lower().str.contains('mtg arena'), 'subject_matter'] = 'MTG Arena'\n",
    "video_metrics_df.loc[video_metrics_df['subject_matter'].str.contains('Hearthstone'), 'subject_matter'] = 'Hearthstone'\n",
    "\n",
    "# Get subject matter in 5 or more videos\n",
    "subject_matter_count = video_metrics_df['subject_matter'].value_counts()\n",
    "popular_subjects = subject_matter_count[subject_matter_count >= 5].index.to_list()\n",
    "\n",
    "video_metrics_df.loc[~video_metrics_df['subject_matter'].isin(popular_subjects), 'subject_matter'] = 'Misc.'\n",
    "\n",
    "video_metrics_df['subject_matter'].value_counts()"
   ]
  },
  {
   "cell_type": "code",
   "execution_count": 16,
   "metadata": {},
   "outputs": [
    {
     "data": {
      "text/plain": [
       "36                           Trying Out New Rig [STREAM]\n",
       "97     Still trying to have fun in Expedition  Eterna...\n",
       "135    Just Making and Adjusting Cards in Titan Core ...\n",
       "140           Mecha Chess then Hunting Monsters [STREAM]\n",
       "141          Working on my card game Titan Core [STREAM]\n",
       "164    Making Fast Food Emblems and then Hunting Mons...\n",
       "471              Playing AC2 for the first time [STREAM]\n",
       "Name: title, dtype: object"
      ]
     },
     "execution_count": 16,
     "metadata": {},
     "output_type": "execute_result"
    }
   ],
   "source": [
    "video_metrics_df.loc[video_metrics_df['subject_matter'] == 'STREAM', 'title']"
   ]
  },
  {
   "cell_type": "markdown",
   "metadata": {},
   "source": [
    "The STREAM subject matter seems to be a side effect of the square bracket format, let's assign those the appropriate subject matter manually:"
   ]
  },
  {
   "cell_type": "code",
   "execution_count": 17,
   "metadata": {},
   "outputs": [
    {
     "data": {
      "text/plain": [
       "Eternal Card Game      294\n",
       "Armored Core            48\n",
       "Misc.                   34\n",
       "None                    28\n",
       "Titan Core              26\n",
       "Mythgard                18\n",
       "Mechabellum             15\n",
       "Project Champions       12\n",
       "Gods Unchained          10\n",
       "Legend of Runeterra      9\n",
       "Monster Hunter           8\n",
       "MTG Arena                6\n",
       "Name: subject_matter, dtype: int64"
      ]
     },
     "execution_count": 17,
     "metadata": {},
     "output_type": "execute_result"
    }
   ],
   "source": [
    "video_metrics_df.loc[video_metrics_df['subject_matter'] == 'STREAM', 'subject_matter'] = ['None', 'Eternal Card Game', 'Titan Core', 'Monster Hunter', 'Titan Core', 'Monster Hunter', 'Armored Core']\n",
    "video_metrics_df['subject_matter'].value_counts()"
   ]
  },
  {
   "cell_type": "markdown",
   "metadata": {},
   "source": [
    "While we're here, let's make a separate feature based on whether the video was streamed or not based on the title."
   ]
  },
  {
   "cell_type": "code",
   "execution_count": 18,
   "metadata": {},
   "outputs": [
    {
     "data": {
      "text/plain": [
       "0    470\n",
       "1     38\n",
       "Name: streamed, dtype: int64"
      ]
     },
     "execution_count": 18,
     "metadata": {},
     "output_type": "execute_result"
    }
   ],
   "source": [
    "video_metrics_df['streamed'] = [1 if 'STREAM' in x.upper() else 0 for x in video_metrics_df['title']]\n",
    "video_metrics_df['streamed'].value_counts()"
   ]
  },
  {
   "cell_type": "markdown",
   "metadata": {},
   "source": [
    "### Video Description"
   ]
  },
  {
   "cell_type": "markdown",
   "metadata": {},
   "source": [
    "Let's take a look at the first 10 video description entries:"
   ]
  },
  {
   "cell_type": "code",
   "execution_count": 19,
   "metadata": {},
   "outputs": [
    {
     "data": {
      "text/plain": [
       "[\"#armoredcore6 #bobthebuilder \\n\\nAI can only do so much. I sure hope when my channel grows so I can hire people to voice act.  Some might get confuse, but bob didn't give Manny the job he stole it from him. Since that sentience can be interpreted as Bob giving a job to Manny as well.\\n\\n\\nArt for the thumbnail was made using A.I. Which you can get the full art on my Patreon. As well actually art that was made form my past videos.\\n\\nPatreon: https://www.patreon.com/WhyISalty\\nTwitch: https://m.twitch.tv/whyisalty/profile\\nTwitter: https://twitter.com/WhyISalty1\\nDiscord: discord.gg/fUTS7w6\",\n",
       " '#armoredcore6 #familyguy #asmongold \\n\\nJust thought of this idea all of a sudden and I just had to make it. It turn out ok. Maybe i might do more of these.\\n\\nPatreon: https://www.patreon.com/WhyISalty\\nTwitch: https://m.twitch.tv/whyisalty/profile\\nTwitter: https://twitter.com/WhyISalty1\\nDiscord: discord.gg/fUTS7w6',\n",
       " '#armoredcore6 @SpongeBobOfficial \\n\\nDecided to make a proper version of the very first \"Got a Job\" meme I\\'ve made. Since that one was just a quick test i put together. Also this video a another test to where i edit the back around to move a bit instead of bit a static image and i tired adding a radio effect to Plankton voice with audacity. \\n\\nAs for the card game I\\'m working on I haven\\'t done much with it since I\\'ve been more focus on making funny content. But if i get more people to join and help test it I\\'ll probably  put more time into it.\\n\\nArt for the thumbnail was made using A.I. Which you can get the full art on my Patreon. As well actually art that was made form my past videos.\\n\\nPatreon: https://www.patreon.com/WhyISalty\\nTwitch: https://m.twitch.tv/whyisalty/profile\\nTwitter: https://twitter.com/WhyISalty1\\nDiscord: discord.gg/fUTS7w6',\n",
       " \"#armoredcore6 #asmongold #mcdonalds \\n\\nI never thought this day would come. Every time I've seen his stream I he was so close to the post but then got distracted by something else. Whic is understandable. Asmond thank you enjoying the video and actually subbing to my channel. I'll try to keep making amazing videos. Since he swore in the first 15 seconds i had to had AM please sub message. Sorry about that.\\n\\n@Chii_SaiSan made this amazing art of MD Asmongold. I wish i can do stuff like this for every video thumbnail but  would lose a lot of money quickly. \\n\\nVote: https://strawpoll.com/ajnEOKl1jZW\\n\\nPatreon: https://www.patreon.com/WhyISalty\\nTwitch: https://m.twitch.tv/whyisalty/profile\\nTwitter: https://twitter.com/WhyISalty1\\nDiscord: discord.gg/fUTS7w6\",\n",
       " '#armoredcore6 \\n\\nWhen i made the meme \"Booty Call\" Ayre wanted to see the animated film and not the live actions. I didnt even know that exist. Really getting sick of holy wood swamping gender and races of classic characters. Here an idea making something original. \\n\\nI will be releasing Rusty and Carla AI to the public soon.\\n\\nArt for the thumbnail was made using A.I. Which you can get the full art on my Patreon. As well actually art that was made form my past videos.\\n\\nPatreon: https://www.patreon.com/WhyISalty\\nTwitch: https://m.twitch.tv/whyisalty/profile\\nTwitter: https://twitter.com/WhyISalty1\\nDiscord: discord.gg/fUTS7w6',\n",
       " \"The other post was just more attractive and then something else caught his interest.  I don't blame him.\\n\\nLike it’s bad enough that this video is not getting the same amount of views as the other episodes and then this happens but who knows maybe things will get better from here .\",\n",
       " '#armoredcore6 \\n\\nThis was more of a test with the G5 Iggy AI, but also an idea i had on how 621 Raven might talk in the Abridged Series if i ever make it. If you can figure out what they are saying then leave a comment showing your answer.\\n\\nI will be releasing Rusty and Carla AI to the public soon.\\n\\nArt for the thumbnail was made using A.I. Which you can get the full art on my Patreon. As well actually art that was made form my past videos.\\n\\nPatreon: https://www.patreon.com/WhyISalty\\nTwitch: https://m.twitch.tv/whyisalty/profile\\nTwitter: https://twitter.com/WhyISalty1\\nDiscord: discord.gg/fUTS7w6',\n",
       " '#armoredcore6 #pokémon #pokemongo \\n\\nI guest this is more wholesome then funny. Was thinking of doing another c-oral joke in there, but nah.\\n\\nAlso play around with the video editing to have the briefing back ground more animated. Might be harder to do for Walter briefings.  I actually had to edit the balls in this AI art.\\n\\nArt for the thumbnail was made using A.I. Which you can get the full art on my Patreon. As well actually art that was made form my past videos.\\n\\nPatreon: https://www.patreon.com/WhyISalty\\nTwitch: https://m.twitch.tv/whyisalty/profile\\nTwitter: https://twitter.com/WhyISalty1\\nDiscord: discord.gg/fUTS7w6',\n",
       " '#armoredcore6 \\nSo Spider-Man 2 recently came out. Never played the first one or 1.5, but i heard good things about them.\\n\\nArt for the thumbnail was made using A.I. Which you can get the full art on my Patreon. As well actually art that was made form my past videos.\\n\\nPatreon: https://www.patreon.com/WhyISalty\\nTwitch: https://m.twitch.tv/whyisalty/profile\\nTwitter: https://twitter.com/WhyISalty1\\nDiscord: discord.gg/fUTS7w6',\n",
       " \"#armoredcore6 \\n\\nBase on a true story. I swear people don't know how to read the order display. I used to work at fast food so i know it's not hard to do. Also at the end i was trying to green screen the AC at the end but was too much work to do with my current video editor so i cop out at the end. Sorry about that. \\n\\nArt for the thumbnail was made using A.I. Which you can get the full art on my Patreon. As well actually art that was made form my past videos.\\n\\nPatreon: https://www.patreon.com/WhyISalty\\nTwitch: https://m.twitch.tv/whyisalty/profile\\nTwitter: https://twitter.com/WhyISalty1\\nDiscord: discord.gg/fUTS7w6\"]"
      ]
     },
     "execution_count": 19,
     "metadata": {},
     "output_type": "execute_result"
    }
   ],
   "source": [
    "video_metrics_df['description'].head(10).to_list()"
   ]
  },
  {
   "cell_type": "markdown",
   "metadata": {},
   "source": [
    "Based on this, there's a couple of things we can do:\n",
    "- Remove hashtags and special characters to clean the text for downstream NLP sentiment analysis.\n",
    "- Create three features based on the presence of hashtags, timestamps, and socials"
   ]
  },
  {
   "cell_type": "code",
   "execution_count": 20,
   "metadata": {},
   "outputs": [],
   "source": [
    "video_metrics_df['description_text_only'] = [re.sub('#.* |#.*|\\\\n|\\\\\\'|([0-9]|[0-9][0-9]):.*.', '', x) for x in video_metrics_df['description']]\n",
    "video_metrics_df['description_hashtags'] = [1 if '#' in x else 0 for x in video_metrics_df['description']]\n",
    "video_metrics_df['description_timestamps'] = [1 if re.search('([0-9]|[0-9][0-9]):', x) else 0 for x in video_metrics_df['description']]\n",
    "video_metrics_df['description_socials'] = [1 if re.search('discord|patreon|twitch|twitter', x.lower()) else 0 for x in video_metrics_df['description']]"
   ]
  },
  {
   "cell_type": "markdown",
   "metadata": {},
   "source": [
    "Now let's confirm each one:"
   ]
  },
  {
   "cell_type": "code",
   "execution_count": 21,
   "metadata": {},
   "outputs": [
    {
     "data": {
      "text/plain": [
       "['AI can only do so much. I sure hope when my channel grows so I can hire people to voice act.  Some might get confuse, but bob didnt give Manny the job he stole it from him. Since that sentience can be interpreted as Bob giving a job to Manny as well.Art for the thumbnail was made using A.I. Which you can get the full art on my Patreon. As well actually art that was made form my past videos.Patreon: https://www.patreon.com/WhyISaltyTwitch: https://m.twitch.tv/whyisalty/profileTwitter: https://twitter.com/WhyISalty1Discord: discord.gg/fUTS7w6',\n",
       " 'Just thought of this idea all of a sudden and I just had to make it. It turn out ok. Maybe i might do more of these.Patreon: https://www.patreon.com/WhyISaltyTwitch: https://m.twitch.tv/whyisalty/profileTwitter: https://twitter.com/WhyISalty1Discord: discord.gg/fUTS7w6',\n",
       " 'Decided to make a proper version of the very first \"Got a Job\" meme Ive made. Since that one was just a quick test i put together. Also this video a another test to where i edit the back around to move a bit instead of bit a static image and i tired adding a radio effect to Plankton voice with audacity. As for the card game Im working on I havent done much with it since Ive been more focus on making funny content. But if i get more people to join and help test it Ill probably  put more time into it.Art for the thumbnail was made using A.I. Which you can get the full art on my Patreon. As well actually art that was made form my past videos.Patreon: https://www.patreon.com/WhyISaltyTwitch: https://m.twitch.tv/whyisalty/profileTwitter: https://twitter.com/WhyISalty1Discord: discord.gg/fUTS7w6',\n",
       " 'I never thought this day would come. Every time Ive seen his stream I he was so close to the post but then got distracted by something else. Whic is understandable. Asmond thank you enjoying the video and actually subbing to my channel. Ill try to keep making amazing videos. Since he swore in the first 15 seconds i had to had AM please sub message. Sorry about that.@Chii_SaiSan made this amazing art of MD Asmongold. I wish i can do stuff like this for every video thumbnail but  would lose a lot of money quickly. Vote: https://strawpoll.com/ajnEOKl1jZWPatreon: https://www.patreon.com/WhyISaltyTwitch: https://m.twitch.tv/whyisalty/profileTwitter: https://twitter.com/WhyISalty1Discord: discord.gg/fUTS7w6',\n",
       " 'When i made the meme \"Booty Call\" Ayre wanted to see the animated film and not the live actions. I didnt even know that exist. Really getting sick of holy wood swamping gender and races of classic characters. Here an idea making something original. I will be releasing Rusty and Carla AI to the public soon.Art for the thumbnail was made using A.I. Which you can get the full art on my Patreon. As well actually art that was made form my past videos.Patreon: https://www.patreon.com/WhyISaltyTwitch: https://m.twitch.tv/whyisalty/profileTwitter: https://twitter.com/WhyISalty1Discord: discord.gg/fUTS7w6']"
      ]
     },
     "execution_count": 21,
     "metadata": {},
     "output_type": "execute_result"
    }
   ],
   "source": [
    "video_metrics_df['description_text_only'].head().to_list()"
   ]
  },
  {
   "cell_type": "code",
   "execution_count": 22,
   "metadata": {},
   "outputs": [
    {
     "data": {
      "text/plain": [
       "0    #armoredcore6 #bobthebuilder \\n\\nAI can only d...\n",
       "1    #armoredcore6 #familyguy #asmongold \\n\\nJust t...\n",
       "2    #armoredcore6 @SpongeBobOfficial \\n\\nDecided t...\n",
       "3    #armoredcore6 #asmongold #mcdonalds \\n\\nI neve...\n",
       "4    #armoredcore6 \\n\\nWhen i made the meme \"Booty ...\n",
       "Name: description, dtype: object"
      ]
     },
     "execution_count": 22,
     "metadata": {},
     "output_type": "execute_result"
    }
   ],
   "source": [
    "video_metrics_df[video_metrics_df['description_hashtags'] == 1]['description'].head()"
   ]
  },
  {
   "cell_type": "code",
   "execution_count": 23,
   "metadata": {},
   "outputs": [
    {
     "data": {
      "text/plain": [
       "['A brew i made for my first Twitch Subscriber \"InsurmountableOne\". Since he subbed me on twitch i have to do two brews for him in total. For the first brew he as me to try to make a deck that work around using \"Lada, Svetya\\'s Advisor\". This was an interesting request and hard one to do with all of the control decks out there. I would not recommend using this for climbing. Also when i was recording the intro my webcam freeze for some reason.\\n\\nIf you want me to brew a deck for you then join my pateron and the next four people to sign up for either the small/medium size fries tiers on my Patreon will automatic be updated to large size fries tier for the price of the tier they sign up for.\\n\\n0:00 Intro\\n4:11 MaskofComedy [FJ]\\n11:52 VirginMary [PS]\\n23:06 slashH [JS]\\n28:54 Kaasplank [TJP]\\n35:35 RagMan [JP]\\n42:44 Samwisjus [FJ]\\n \\n\\nDeck list:https://eternalwarcry.com/decks/d/EroPwXYbsC4/money-brew-site-ya-lada\\nPateron: https://www.patreon.com/WhyISalty\\nDiscord: https://discord.gg/fUTS7w6',\n",
       " 'Was just mainly going to do a Mecabellum stream, but then i got to salty.\\n\\n0:00 Mechabellm\\n5:730 AC6',\n",
       " 'With the release of the new set news cards that came out for LoR i decided to give a try making a deck with Nasus since he is one of my favorite champions in LoL. I wasted alot of wild cards and shards trying to get this to work. Crafted Champions that in the end i didn\\'t use, but i can always use them in another deck. It was a interesting learning experience. There are probability similar deck like this that are better then what i made, but i hope you guys enjoy watching.\\n\\nSince i am still new to the game it will be awhile before i can start brewing my own kind of decks so if you want to help speed up my collection then why not check out my Pateron. I added a \"Donated 475 Coin \"tier. I am really not expected anyone to donate, but doesn\\'t hurt to ask.\\n\\n0:00 Intro \\n6:21 Game 1\\n15:20 Game 2\\n24:27 Game 3\\n29:54 Game 4\\n38:21 Game 5\\n46:08 Game 6\\n52:00 Game 7\\n\\nDeck list: https://lor.mobalytics.gg/decks/c106suh509nhf19dj2t0\\nPateron: https://www.patreon.com/WhyISalty\\nDiscord: https://discord.gg/fUTS7w6\\nTwitter: https://twitter.com/WhyISalty1',\n",
       " \"Still new to the whole Draft/Expedition of LoR and i think this was the best run i had so far. Got to say this mode is addicting trying to make a best deck on your first try, but only then getting your ass kick by someone better. Which then makes you want to try again. Didn't think i would almost be using the same thumbnail as my last video.\\n\\nEven thought i'm new to the game i'm going to try to do a LoR related video each Friday. \\n\\n0:00 Picking cards\\n4:27 Game 1\\n16:10 Game 2\\n24:15 Game 3\\n34:00 Game 4\\n35:59 Game 5\\n39:55 Game 6\\n51:32 Game 7\\n56:09 Game 8\\n1:05:02 Game 9\\n\\nPateron: https://www.patreon.com/WhyISalty\\nDiscord: https://discord.gg/fUTS7w6\\nTwitter: https://twitter.com/WhyISalty1\",\n",
       " 'After adding Geminion choice to my to HS+Eternal clone made me want to try another eternal card. This time I am doing two “Light the fuse” and “Firebomb”. I’ve also post a Dropbox link to the game which I’m constantly updating. So if you want to try it please let me know in my discord cause only 4 players are allow on the game sever and I use two of those slots for testing new cards. \\n\\n\\nProject Champion: https://www.dropbox.com/s/2nc6x4knkb1o5il/ProjectChampionV6Game.zip?dl=0\\nFor those who just want to see the card working go to 39:00.']"
      ]
     },
     "execution_count": 23,
     "metadata": {},
     "output_type": "execute_result"
    }
   ],
   "source": [
    "video_metrics_df[video_metrics_df['description_timestamps'] == 1]['description'].head().to_list()"
   ]
  },
  {
   "cell_type": "code",
   "execution_count": 24,
   "metadata": {},
   "outputs": [
    {
     "data": {
      "text/plain": [
       "[\"#armoredcore6 #bobthebuilder \\n\\nAI can only do so much. I sure hope when my channel grows so I can hire people to voice act.  Some might get confuse, but bob didn't give Manny the job he stole it from him. Since that sentience can be interpreted as Bob giving a job to Manny as well.\\n\\n\\nArt for the thumbnail was made using A.I. Which you can get the full art on my Patreon. As well actually art that was made form my past videos.\\n\\nPatreon: https://www.patreon.com/WhyISalty\\nTwitch: https://m.twitch.tv/whyisalty/profile\\nTwitter: https://twitter.com/WhyISalty1\\nDiscord: discord.gg/fUTS7w6\",\n",
       " '#armoredcore6 #familyguy #asmongold \\n\\nJust thought of this idea all of a sudden and I just had to make it. It turn out ok. Maybe i might do more of these.\\n\\nPatreon: https://www.patreon.com/WhyISalty\\nTwitch: https://m.twitch.tv/whyisalty/profile\\nTwitter: https://twitter.com/WhyISalty1\\nDiscord: discord.gg/fUTS7w6',\n",
       " '#armoredcore6 @SpongeBobOfficial \\n\\nDecided to make a proper version of the very first \"Got a Job\" meme I\\'ve made. Since that one was just a quick test i put together. Also this video a another test to where i edit the back around to move a bit instead of bit a static image and i tired adding a radio effect to Plankton voice with audacity. \\n\\nAs for the card game I\\'m working on I haven\\'t done much with it since I\\'ve been more focus on making funny content. But if i get more people to join and help test it I\\'ll probably  put more time into it.\\n\\nArt for the thumbnail was made using A.I. Which you can get the full art on my Patreon. As well actually art that was made form my past videos.\\n\\nPatreon: https://www.patreon.com/WhyISalty\\nTwitch: https://m.twitch.tv/whyisalty/profile\\nTwitter: https://twitter.com/WhyISalty1\\nDiscord: discord.gg/fUTS7w6',\n",
       " \"#armoredcore6 #asmongold #mcdonalds \\n\\nI never thought this day would come. Every time I've seen his stream I he was so close to the post but then got distracted by something else. Whic is understandable. Asmond thank you enjoying the video and actually subbing to my channel. I'll try to keep making amazing videos. Since he swore in the first 15 seconds i had to had AM please sub message. Sorry about that.\\n\\n@Chii_SaiSan made this amazing art of MD Asmongold. I wish i can do stuff like this for every video thumbnail but  would lose a lot of money quickly. \\n\\nVote: https://strawpoll.com/ajnEOKl1jZW\\n\\nPatreon: https://www.patreon.com/WhyISalty\\nTwitch: https://m.twitch.tv/whyisalty/profile\\nTwitter: https://twitter.com/WhyISalty1\\nDiscord: discord.gg/fUTS7w6\",\n",
       " '#armoredcore6 \\n\\nWhen i made the meme \"Booty Call\" Ayre wanted to see the animated film and not the live actions. I didnt even know that exist. Really getting sick of holy wood swamping gender and races of classic characters. Here an idea making something original. \\n\\nI will be releasing Rusty and Carla AI to the public soon.\\n\\nArt for the thumbnail was made using A.I. Which you can get the full art on my Patreon. As well actually art that was made form my past videos.\\n\\nPatreon: https://www.patreon.com/WhyISalty\\nTwitch: https://m.twitch.tv/whyisalty/profile\\nTwitter: https://twitter.com/WhyISalty1\\nDiscord: discord.gg/fUTS7w6']"
      ]
     },
     "execution_count": 24,
     "metadata": {},
     "output_type": "execute_result"
    }
   ],
   "source": [
    "video_metrics_df[video_metrics_df['description_socials'] == 1]['description'].head().to_list()"
   ]
  },
  {
   "cell_type": "markdown",
   "metadata": {},
   "source": [
    "### Video Comments"
   ]
  },
  {
   "cell_type": "markdown",
   "metadata": {},
   "source": [
    "Similar to the Title and Description, let's also look at the comments."
   ]
  },
  {
   "cell_type": "code",
   "execution_count": 25,
   "metadata": {},
   "outputs": [
    {
     "data": {
      "text/plain": [
       "['Good luck trying out the Charge Blade. Transforming weapon are too complicated for my lance brain.',\n",
       " 'Nice, good luck on the rest of your journey, some of the hunts are really tough later on but you got this 👍',\n",
       " 'Stream died?',\n",
       " \"lel so it wasn't just me then XD\",\n",
       " '@Kuruwa Yoshiko Thought it was my internet.',\n",
       " \"@Why I Salty Ah, that's unfortunate mate. Was thinking about jumping in.\",\n",
       " '\\u200b@Why I SaltyGood that you found a solution. And apparently my laptop can handle this game in low setting pretty well. I can help you tank if you hit a roadblock 👍',\n",
       " \"Who's the thumbnail artist? Can't quite work out what is going on with the jaw in the top right\",\n",
       " \"@Why I Salty oh buddy, that's not good, if you want to build a community, you shouldn't stab the creative community in the back like this, even just a screenshot from the video would probably be better\",\n",
       " '“Can you kill him yes you can” ah that gives me robot chicken vibes',\n",
       " 'Most sane mission in AC6',\n",
       " \"Ayre wearing coveralls is something I didn't know I needed.\",\n",
       " 'Lol',\n",
       " 'What does Ayre have against orphanages',\n",
       " '+2000 Coam per orphan.',\n",
       " 'You need to overlay the images with those random text labels that pop up to match the sound effects.',\n",
       " 'This time the AI voice gen was a bit more problematic',\n",
       " 'Dude the thumbnail was adorable \\nEdit: for once ayres on my side. If the pays good 25k per building an you got yourself a deal',\n",
       " 'Never in all my life did I think I would see a video about Bob the Builder hiring a contract killer in a massive mech to kill Handy Manny.\\n\\nYet here I am.',\n",
       " 'Ayre: \"You think he\\'ll pay extra for each orphanage we destroy?\"\\n\\nShe says that as if it\\'s optional and not optimal.']"
      ]
     },
     "execution_count": 25,
     "metadata": {},
     "output_type": "execute_result"
    }
   ],
   "source": [
    "video_comments_df['video_comment'].head(20).to_list()"
   ]
  },
  {
   "cell_type": "code",
   "execution_count": 26,
   "metadata": {},
   "outputs": [
    {
     "data": {
      "text/plain": [
       "[None, None, None, None, None]"
      ]
     },
     "execution_count": 26,
     "metadata": {},
     "output_type": "execute_result"
    }
   ],
   "source": [
    "video_comments_df['video_comment'].tail().to_list()"
   ]
  },
  {
   "cell_type": "markdown",
   "metadata": {},
   "source": [
    "Similar to the video description, we need to remove the special characters. It also seems that during the data cleaning step, that we accidently introduced some NoneType variables - let's remove those rows since they represent videos without comments."
   ]
  },
  {
   "cell_type": "code",
   "execution_count": 27,
   "metadata": {},
   "outputs": [],
   "source": [
    "video_comments_df = video_comments_df.dropna()\n",
    "video_comments_df.loc[:,'video_comment'] = [re.sub('\\\\n|\\\\\\'', '', x) for x in video_comments_df['video_comment']]"
   ]
  },
  {
   "cell_type": "code",
   "execution_count": 28,
   "metadata": {},
   "outputs": [
    {
     "data": {
      "text/plain": [
       "['Good luck trying out the Charge Blade. Transforming weapon are too complicated for my lance brain.',\n",
       " 'Nice, good luck on the rest of your journey, some of the hunts are really tough later on but you got this 👍',\n",
       " 'Stream died?',\n",
       " 'lel so it wasnt just me then XD',\n",
       " '@Kuruwa Yoshiko Thought it was my internet.',\n",
       " '@Why I Salty Ah, thats unfortunate mate. Was thinking about jumping in.',\n",
       " '\\u200b@Why I SaltyGood that you found a solution. And apparently my laptop can handle this game in low setting pretty well. I can help you tank if you hit a roadblock 👍',\n",
       " 'Whos the thumbnail artist? Cant quite work out what is going on with the jaw in the top right',\n",
       " '@Why I Salty oh buddy, thats not good, if you want to build a community, you shouldnt stab the creative community in the back like this, even just a screenshot from the video would probably be better',\n",
       " '“Can you kill him yes you can” ah that gives me robot chicken vibes',\n",
       " 'Most sane mission in AC6',\n",
       " 'Ayre wearing coveralls is something I didnt know I needed.',\n",
       " 'Lol',\n",
       " 'What does Ayre have against orphanages',\n",
       " '+2000 Coam per orphan.',\n",
       " 'You need to overlay the images with those random text labels that pop up to match the sound effects.',\n",
       " 'This time the AI voice gen was a bit more problematic',\n",
       " 'Dude the thumbnail was adorable Edit: for once ayres on my side. If the pays good 25k per building an you got yourself a deal',\n",
       " 'Never in all my life did I think I would see a video about Bob the Builder hiring a contract killer in a massive mech to kill Handy Manny.Yet here I am.',\n",
       " 'Ayre: \"You think hell pay extra for each orphanage we destroy?\"She says that as if its optional and not optimal.']"
      ]
     },
     "execution_count": 28,
     "metadata": {},
     "output_type": "execute_result"
    }
   ],
   "source": [
    "video_comments_df['video_comment'].head(20).to_list()"
   ]
  },
  {
   "cell_type": "code",
   "execution_count": 29,
   "metadata": {},
   "outputs": [
    {
     "data": {
      "text/plain": [
       "['I put that legendary that kills all attachments in one deck and its actually not a bad thing it kils your own too, ive had it kill 8 attachments vs a curse deck and including my own and it got charge, warcry, double damage, berserk etc etc you get the idea and won me the game right away - it did 20 damage - 5 doubled (10) + berserk to attack again',\n",
       " 'Nice, and I accidently played my expedition version in throne too and it also did surprisingly well. As I keep running into endurance I play inflict conscience over permafrost.  A small point of play that Ive noticed you have a habit of doing - is just putting your seek power straight into the market instead of playing it first thinning your deck by -1 and then playing or putting the power as needed in the market instead - it might not seem like much and most of the time has not made much difference - but sometimes it has - just like to see a good player making correct plays not only for themselves but also for anyone watching.',\n",
       " 'I had an old combrei deck that was something similar idea to this - using shush and desert marshal to silence problem units and the sword of unity to keep my life total high and protect my stuff, and just upped the number of copies I played of each to counter the endra deck too, as I am also sick of playing against it. .Although I did forget about aamrils choice and might try and make room for one or two also. But the deck has already got a 100% record vs endra so maybe not.https://eternalwarcry.com/decks/d/GE8Vt9wo8uk/even-aegisbear in mind its a slightly older list and I have just added more marshalls and shush and is by no means optimal but its proved good enough vs endra so far',\n",
       " 'Kuro - said this in other peoples chat when it was spoiled, everything about the card text flavor says curse so why not have its mastery - draw 3 curses from the void at the very least (there are plenty of void spells for units) - and the summon effect of discarding isnt bad, but if you go that route then it should be non power card, grab a curse equal to its cost.',\n",
       " 'I would play honered skyguard or whispering wind over potent reader as a draw 1 and not have to put a card back on top is just better IMOP']"
      ]
     },
     "execution_count": 29,
     "metadata": {},
     "output_type": "execute_result"
    }
   ],
   "source": [
    "video_comments_df['video_comment'].tail().to_list()"
   ]
  },
  {
   "cell_type": "markdown",
   "metadata": {},
   "source": [
    "## Time-based Data"
   ]
  },
  {
   "cell_type": "markdown",
   "metadata": {},
   "source": [
    "For both tables, there are two metrics that can be further extracted as independent features:\n",
    "- Year, Month, Day of the Week of Upload\n",
    "- Hour of Upload\n",
    "- Video Duration in Seconds\n",
    "- Video Comment Time Relative to Upload in Seconds"
   ]
  },
  {
   "cell_type": "markdown",
   "metadata": {},
   "source": [
    "Let's start with the first three features in the video_metrics_df. \n",
    "\n",
    "For Year, Month, Day of the Week Upload, Hour of Upload we'll use the published_at column which is in YYYY-MM-DD HH-MM-SS TimeZone format. Luckily this is already in 'datetime64' by Pandas. We an use the datetime library to extract the information we need."
   ]
  },
  {
   "cell_type": "code",
   "execution_count": 30,
   "metadata": {},
   "outputs": [
    {
     "name": "stdout",
     "output_type": "stream",
     "text": [
      "Year :  2023\n",
      "Month :  11\n",
      "Weekday :  6\n",
      "Hour :  5\n"
     ]
    }
   ],
   "source": [
    "import datetime\n",
    "#[x.]\n",
    "print('Year : ', video_metrics_df['published_at'][0].year)\n",
    "print('Month : ', video_metrics_df['published_at'][0].month)\n",
    "print('Weekday : ', video_metrics_df['published_at'][0].weekday())\n",
    "print('Hour : ', video_metrics_df['published_at'][0].hour)"
   ]
  },
  {
   "cell_type": "code",
   "execution_count": 31,
   "metadata": {},
   "outputs": [],
   "source": [
    "video_metrics_df['published_year'] = [x.year for x in video_metrics_df['published_at']]\n",
    "video_metrics_df['published_month'] = [x.month for x in video_metrics_df['published_at']]\n",
    "video_metrics_df['published_weekday'] = [x.weekday() for x in video_metrics_df['published_at']]\n",
    "video_metrics_df['published_hour'] = [x.hour for x in video_metrics_df['published_at']]"
   ]
  },
  {
   "cell_type": "markdown",
   "metadata": {},
   "source": [
    "The duration of the video can be found under the 'duration' column and follows a slightly trickier format 'PTn(n)Hn(n)Mn(n)S where not all numbers and characters are present. If the duration is 22 seconds long, the format is 'PT22S'. If the duration is 8 minutes and 37 seconds long, the format is 'PT8M37S'.\n",
    "\n",
    "Let try to write a function that will start from the right of the 'PT' pattern, pull the numeric values to the right of each character, and use the character pattern (H/M/S) to convert the following numeric value to seconds."
   ]
  },
  {
   "cell_type": "code",
   "execution_count": 32,
   "metadata": {},
   "outputs": [
    {
     "name": "stdout",
     "output_type": "stream",
     "text": [
      "['8M', '37S']\n"
     ]
    }
   ],
   "source": [
    "# example of a successful regex pattern\n",
    "test = 'PT8M37S'\n",
    "print(re.findall(r'[0-9]{1,2}[A-Z]', test))"
   ]
  },
  {
   "cell_type": "code",
   "execution_count": 33,
   "metadata": {},
   "outputs": [],
   "source": [
    "def pt_to_seconds(pt_string):\n",
    "    '''Converts string in PT(n(n)H)(n(n)M)n(n)S) format to seconds, where () enclose optional values and H/M/S denote hours/minutes/seconds'''\n",
    "    # use regex to split each string by their right most character\n",
    "    pt_seconds = 0\n",
    "    time_split = re.findall(r'[0-9]{1,2}[A-Z]', pt_string)\n",
    "    # convert each time format to seconds and append\n",
    "    for split in time_split:\n",
    "        num_split = int(split[0:-1])\n",
    "        if 'H' in split:\n",
    "            pt_seconds += num_split * 360\n",
    "        elif 'M' in split:\n",
    "            pt_seconds += num_split * 60\n",
    "        else:\n",
    "            pt_seconds += num_split\n",
    "    return(pt_seconds)"
   ]
  },
  {
   "cell_type": "markdown",
   "metadata": {},
   "source": [
    "Let's test the string 'PT8M37S' which should return 8*60 + 37 = 517"
   ]
  },
  {
   "cell_type": "code",
   "execution_count": 34,
   "metadata": {},
   "outputs": [
    {
     "name": "stdout",
     "output_type": "stream",
     "text": [
      "517  seconds\n"
     ]
    }
   ],
   "source": [
    "pts_example = pt_to_seconds('PT8M37S')\n",
    "print(pts_example, ' seconds')"
   ]
  },
  {
   "cell_type": "code",
   "execution_count": 35,
   "metadata": {},
   "outputs": [
    {
     "name": "stdout",
     "output_type": "stream",
     "text": [
      "0       83\n",
      "1       22\n",
      "2      123\n",
      "3      517\n",
      "4       89\n",
      "      ... \n",
      "503     31\n",
      "504     82\n",
      "505     95\n",
      "506    276\n",
      "507     51\n",
      "Name: video_duration_seconds, Length: 508, dtype: int64\n"
     ]
    }
   ],
   "source": [
    "video_metrics_df['video_duration_seconds'] = video_metrics_df['duration'].apply(lambda x: pt_to_seconds(x))\n",
    "print(video_metrics_df['video_duration_seconds'])"
   ]
  },
  {
   "cell_type": "markdown",
   "metadata": {},
   "source": [
    "Finally let's add the feature 'comment_relative_to_upload_seconds'. This will be a simple subtraction of the video_comment_time column in the video_comments_df with the published_at column in the video_metrics_df.\n",
    "\n",
    "Because both columns have entries already in datetime format, we can use the datetime library to perform this operation.\n",
    "\n",
    "Similar to above, let's write a function that uses the video_id from each comment to pull the published_at value from the video_metrics_df."
   ]
  },
  {
   "cell_type": "code",
   "execution_count": 36,
   "metadata": {},
   "outputs": [],
   "source": [
    "def comment_from_upload_seconds(row):\n",
    "    '''extracts the video_id and datetime values from the row and finds thier respective values in the comment_metrics_df dataframe. Subtracts from both datetime values to get the time from upload'''\n",
    "    c_video_id = row['video_id']\n",
    "    c_datetime = row['video_comment_time']\n",
    "    v_datetime = video_metrics_df[video_metrics_df['video_id'] == c_video_id]['published_at']\n",
    "    c_from_v = c_datetime - v_datetime\n",
    "    c_from_v_seconds = c_from_v.iloc[0].seconds\n",
    "    return c_from_v_seconds"
   ]
  },
  {
   "cell_type": "markdown",
   "metadata": {},
   "source": [
    "Let's validate this using the comment_id 'UgzWhoTNYW-C1nD1Lm94AaABAg' and 'Ugx5R_BBSeGsBuC3AN54AaABAg'."
   ]
  },
  {
   "cell_type": "code",
   "execution_count": 37,
   "metadata": {},
   "outputs": [
    {
     "name": "stdout",
     "output_type": "stream",
     "text": [
      "Comment 1: 2023-11-15 05:10:21+00:00\n",
      "Comment 2: 2023-11-14 03:48:22+00:00\n",
      "Comment 1 video_id: HqNMNXa7REY and datetime 2023-11-15 03:27:18+00:00\n",
      "Comment 2 video_id: P1a3DEpvFeE and datetime 2023-11-14 01:57:06+00:00\n",
      "Comment 1 expected output 6183 seconds\n",
      "Comment 2 expected output 6676 seconds\n"
     ]
    }
   ],
   "source": [
    "row_1 = video_comments_df[video_comments_df['video_comment_parent_id'] == 'UgzWhoTNYW-C1nD1Lm94AaABAg']\n",
    "row_2 = video_comments_df[video_comments_df['video_comment_parent_id'] == 'Ugx5R_BBSeGsBuC3AN54AaABAg']\n",
    "\n",
    "print('Comment 1:', row_1['video_comment_time'].iloc[0])\n",
    "print('Comment 2:', row_2['video_comment_time'].iloc[0])\n",
    "\n",
    "row_1_video = video_metrics_df[video_metrics_df['video_id'] == row_1['video_id'].iloc[0]]\n",
    "row_2_video = video_metrics_df[video_metrics_df['video_id'] == row_2['video_id'].iloc[0]]\n",
    "\n",
    "print('Comment 1 video_id:', row_1_video['video_id'].iloc[0], 'and datetime', row_1_video['published_at'].iloc[0])\n",
    "print('Comment 2 video_id:', row_2_video['video_id'].iloc[0], 'and datetime', row_2_video['published_at'].iloc[0])\n",
    "\n",
    "row_1_sub = (row_1['video_comment_time'].iloc[0] - row_1_video['published_at'].iloc[0]).seconds\n",
    "row_2_sub = (row_2['video_comment_time'].iloc[0] - row_2_video['published_at'].iloc[0]).seconds\n",
    "\n",
    "print('Comment 1 expected output', row_1_sub, 'seconds')\n",
    "print('Comment 2 expected output', row_2_sub, 'seconds')"
   ]
  },
  {
   "cell_type": "code",
   "execution_count": 38,
   "metadata": {},
   "outputs": [
    {
     "data": {
      "text/plain": [
       "0    6183\n",
       "1    6676\n",
       "dtype: int64"
      ]
     },
     "execution_count": 38,
     "metadata": {},
     "output_type": "execute_result"
    }
   ],
   "source": [
    "video_comments_df[video_comments_df['video_comment_parent_id'].isin(['UgzWhoTNYW-C1nD1Lm94AaABAg', 'Ugx5R_BBSeGsBuC3AN54AaABAg'])].apply(lambda x:comment_from_upload_seconds(x), axis = 1)"
   ]
  },
  {
   "cell_type": "markdown",
   "metadata": {},
   "source": [
    "We get the expected output, so let's apply that to all rows and append it to the video_comments_df:"
   ]
  },
  {
   "cell_type": "code",
   "execution_count": 40,
   "metadata": {},
   "outputs": [],
   "source": [
    "video_comments_df['comments_relative_to_upload_seconds'] = video_comments_df.apply(lambda x: comment_from_upload_seconds(x), axis = 1)"
   ]
  },
  {
   "cell_type": "markdown",
   "metadata": {},
   "source": [
    "## Sentiment Analysis"
   ]
  },
  {
   "cell_type": "markdown",
   "metadata": {},
   "source": [
    "Let's finally perform some simple sentiment analysis on the video titles as well as comments.\n",
    "\n",
    "Here we'll use the Natural Language Toolkit (NLTK) library which requires the following pre-processing steps prior to modelling:\n",
    "1. Tokenization\n",
    "2. Lowercasing\n",
    "4. Noise removal\n",
    "5. Spelling correction\n",
    "6. Lemmatization\n",
    "7. Part-of-speech tagging\n",
    "8. Named entities recognition\n",
    "9. Text normalization"
   ]
  },
  {
   "cell_type": "code",
   "execution_count": 60,
   "metadata": {},
   "outputs": [
    {
     "name": "stderr",
     "output_type": "stream",
     "text": [
      "[nltk_data] Downloading package stopwords to\n",
      "[nltk_data]     C:\\Users\\justi\\AppData\\Roaming\\nltk_data...\n",
      "[nltk_data]   Unzipping corpora\\stopwords.zip.\n"
     ]
    }
   ],
   "source": [
    "import nltk\n",
    "nltk_comments = video_comments_df[['video_comment']]"
   ]
  },
  {
   "cell_type": "markdown",
   "metadata": {},
   "source": [
    "Before we write a function which will preprocess the text, let's validate each step."
   ]
  },
  {
   "cell_type": "markdown",
   "metadata": {},
   "source": [
    "### Tokenization and Lowercasing"
   ]
  },
  {
   "cell_type": "markdown",
   "metadata": {},
   "source": [
    "First let's split the text into individual words, also known as tokens:"
   ]
  },
  {
   "cell_type": "code",
   "execution_count": 54,
   "metadata": {},
   "outputs": [
    {
     "name": "stdout",
     "output_type": "stream",
     "text": [
      "['good', 'luck', 'trying', 'out', 'the', 'charge', 'blade', '.', 'transforming', 'weapon', 'are', 'too', 'complicated', 'for', 'my', 'lance', 'brain', '.']\n"
     ]
    }
   ],
   "source": [
    "tokens_list = [nltk.word_tokenize(x.lower()) for x in nltk_comments['video_comment']]\n",
    "print(tokens_list[0])"
   ]
  },
  {
   "cell_type": "markdown",
   "metadata": {},
   "source": [
    "### Noise removal"
   ]
  },
  {
   "cell_type": "code",
   "execution_count": 63,
   "metadata": {},
   "outputs": [
    {
     "name": "stdout",
     "output_type": "stream",
     "text": [
      "['good', 'luck', 'trying', 'charge', 'blade', 'transforming', 'weapon', 'complicated', 'lance', 'brain']\n"
     ]
    }
   ],
   "source": [
    "import string\n",
    "\n",
    "# Remove punctuation, stop words, whitespace, urls, html code\n",
    "stop_words = nltk.corpus.stopwords.words('english')\n",
    "url_pattern = r\"(http|ftp|https)://([\\w_-]+(?:(?:\\.[\\w_-]+)+))([\\w.,@?^=%&:/~+#-]*[\\w@?^=%&/~+#-])?\"\n",
    "html_pattern = r\"<[^>]+>\"\n",
    "\n",
    "filtered_token_list = []\n",
    "for tokens in tokens_list:\n",
    "    filtered_tokens = [x for x in tokens if x not in string.punctuation and x not in stop_words]\n",
    "    filtered_tokens = [\" \".join(x.strip().split()) for x in filtered_tokens]\n",
    "    filtered_tokens = [re.sub(html_pattern, '', re.sub(url_pattern, '', x)) for x in filtered_tokens]\n",
    "    filtered_token_list.append(filtered_tokens)\n",
    "\n",
    "print(filtered_token_list[0])"
   ]
  }
 ],
 "metadata": {
  "kernelspec": {
   "display_name": "base",
   "language": "python",
   "name": "python3"
  },
  "language_info": {
   "codemirror_mode": {
    "name": "ipython",
    "version": 3
   },
   "file_extension": ".py",
   "mimetype": "text/x-python",
   "name": "python",
   "nbconvert_exporter": "python",
   "pygments_lexer": "ipython3",
   "version": "3.8.8"
  }
 },
 "nbformat": 4,
 "nbformat_minor": 2
}
