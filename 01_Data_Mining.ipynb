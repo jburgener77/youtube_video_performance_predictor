{
 "cells": [
  {
   "cell_type": "markdown",
   "metadata": {},
   "source": [
    "# Data Mining from Youtube Channels"
   ]
  },
  {
   "cell_type": "markdown",
   "metadata": {},
   "source": [
    "## Setup\n",
    "Import required packages including Google's API for Youtube. For more information please see: https://developers.google.com/youtube/v3"
   ]
  },
  {
   "cell_type": "code",
   "execution_count": 1,
   "metadata": {},
   "outputs": [],
   "source": [
    "import pandas as pd\n",
    "import numpy as np\n",
    "from matplotlib import pyplot as plt\n",
    "import seaborn as sns\n",
    "from yt_api_jb import YtScraper"
   ]
  },
  {
   "cell_type": "markdown",
   "metadata": {},
   "source": [
    "Here we'll look at my brother's Youtube channel, WhyISalty.\n",
    "\n",
    "A Google Account is required to access the Google API Console. For this project, an application was created using the [Google Developers Console](https://console.developers.google.com/).\n",
    "\n",
    "Now let's import the YtScraper class and create an object that contains information and methods related to the WhyISalty channel:"
   ]
  },
  {
   "cell_type": "code",
   "execution_count": 2,
   "metadata": {},
   "outputs": [
    {
     "name": "stdout",
     "output_type": "stream",
     "text": [
      "['HqNMNXa7REY', 'P1a3DEpvFeE', 'FK0gxnwyhew', 'K3s5zrG4t1c', 'HypJk4azqAE', 'JFs_hiTaU9M']\n"
     ]
    }
   ],
   "source": [
    "# Call the Youtube API Scraper and list all videos WhyISalty's Youtube channel\n",
    "yt_whyisalty = YtScraper()\n",
    "video_ids = yt_whyisalty.get_upload_ids(\"WhyISalty\")\n",
    "print(video_ids[0:6]) # First 5 video ids"
   ]
  },
  {
   "cell_type": "markdown",
   "metadata": {},
   "source": [
    "Each ID above corresponds to a Video or Live Stream uploaded by the User. We can also get the total statistics across all videos:"
   ]
  },
  {
   "cell_type": "code",
   "execution_count": 3,
   "metadata": {},
   "outputs": [
    {
     "name": "stdout",
     "output_type": "stream",
     "text": [
      "  viewCount subscriberCount  hiddenSubscriberCount videoCount  \\\n",
      "0   1173778            7460                  False        507   \n",
      "\n",
      "                                       thumbnail_url channel_name  \n",
      "0  https://yt3.ggpht.com/7jNjyWBlUgVNiFBfzigXaH9K...  Why I Salty  \n"
     ]
    }
   ],
   "source": [
    "channel_metrics_df = yt_whyisalty.metrics\n",
    "print(channel_metrics_df)"
   ]
  },
  {
   "cell_type": "markdown",
   "metadata": {},
   "source": [
    "## Data Mining"
   ]
  },
  {
   "cell_type": "code",
   "execution_count": 4,
   "metadata": {},
   "outputs": [
    {
     "name": "stdout",
     "output_type": "stream",
     "text": [
      "  channel_name     video_id  \\\n",
      "0  Why I Salty  HqNMNXa7REY   \n",
      "1  Why I Salty  P1a3DEpvFeE   \n",
      "2  Why I Salty  FK0gxnwyhew   \n",
      "3  Why I Salty  K3s5zrG4t1c   \n",
      "4  Why I Salty  HypJk4azqAE   \n",
      "\n",
      "                                               title          published_at  \\\n",
      "0  Quest to Hunt Brachydios | Monster Hunter Worl...  2023-11-15T03:27:18Z   \n",
      "1  Grinding for Bow Gear | Monster Hunter World [...  2023-11-14T01:57:06Z   \n",
      "2   It's Hammer TIme | Monster Hunter World [STREAM]  2023-11-13T01:10:44Z   \n",
      "3  Got a Job for you, 621: Mission 11 | Armored C...  2023-11-12T05:00:08Z   \n",
      "4         Pepperidge Farm Remember | Armored Core VI  2023-11-11T03:58:05Z   \n",
      "\n",
      "                                         description  \\\n",
      "0  Powered by Restream https://restream.io\\n\\nJus...   \n",
      "1  Powered by Restream https://restream.io\\n\\nJus...   \n",
      "2  Powered by Restream https://restream.io\\n\\nJus...   \n",
      "3  #armoredcore6 #bobthebuilder \\n\\nAI can only d...   \n",
      "4  #armoredcore6 #familyguy #asmongold \\n\\nJust t...   \n",
      "\n",
      "                                    thumbnail_url  \\\n",
      "0  https://i.ytimg.com/vi/HqNMNXa7REY/default.jpg   \n",
      "1  https://i.ytimg.com/vi/P1a3DEpvFeE/default.jpg   \n",
      "2  https://i.ytimg.com/vi/FK0gxnwyhew/default.jpg   \n",
      "3  https://i.ytimg.com/vi/K3s5zrG4t1c/default.jpg   \n",
      "4  https://i.ytimg.com/vi/HypJk4azqAE/default.jpg   \n",
      "\n",
      "                                                tags category_id    duration  \\\n",
      "0                                               none          20  PT3H58M50S   \n",
      "1                                               none          24  PT2H24M49S   \n",
      "2                                               none          20   PT5H5M30S   \n",
      "3  [armored core, Gundam, Anime, ac6, Gaming, Mec...          20     PT1M23S   \n",
      "4  [armored core, Gundam, Anime, ac6, Gaming, Mec...          20       PT22S   \n",
      "\n",
      "  view_count like_count fav_count comment_count  \n",
      "0         39          4         0             1  \n",
      "1        128         10         0             7  \n",
      "2        215         10         0             4  \n",
      "3       4829        549         0            50  \n",
      "4       2524        239         0            24  \n"
     ]
    }
   ],
   "source": [
    "video_metric_df = yt_whyisalty.get_video_metrics(video_ids)\n",
    "print(video_metric_df.head())"
   ]
  },
  {
   "cell_type": "code",
   "execution_count": 5,
   "metadata": {},
   "outputs": [
    {
     "name": "stdout",
     "output_type": "stream",
     "text": [
      "      video_id                                      video_comment  \\\n",
      "0  HqNMNXa7REY  Good luck trying out the Charge Blade. Transfo...   \n",
      "1  P1a3DEpvFeE  Nice, good luck on the rest of your journey, s...   \n",
      "2  P1a3DEpvFeE                                       Stream died?   \n",
      "3  P1a3DEpvFeE                   lel so it wasn't just me then XD   \n",
      "4  P1a3DEpvFeE        @Kuruwa Yoshiko Thought it was my internet.   \n",
      "\n",
      "  video_comment_user    video_comment_time     video_comment_parent_id  \\\n",
      "0       Gobo KoboObo  2023-11-15T05:10:21Z  UgzWhoTNYW-C1nD1Lm94AaABAg   \n",
      "1        Diego Cantu  2023-11-14T03:48:22Z  Ugx5R_BBSeGsBuC3AN54AaABAg   \n",
      "2       Gobo KoboObo  2023-11-14T01:46:07Z  Ugx4-6nI0vtlaGv735d4AaABAg   \n",
      "3     Kuruwa Yoshiko  2023-11-14T01:47:07Z  Ugx4-6nI0vtlaGv735d4AaABAg   \n",
      "4       Gobo KoboObo  2023-11-14T01:50:20Z  Ugx4-6nI0vtlaGv735d4AaABAg   \n",
      "\n",
      "                              video_comment_child_id  \n",
      "0                                                  0  \n",
      "1                                                  0  \n",
      "2                                                  0  \n",
      "3  Ugx4-6nI0vtlaGv735d4AaABAg.9x4SL68zJEO9x4SSUbjmUM  \n",
      "4  Ugx4-6nI0vtlaGv735d4AaABAg.9x4SL68zJEO9x4Sp7-cGGN  \n"
     ]
    }
   ],
   "source": [
    "video_comments_df = yt_whyisalty.get_video_comments(video_ids)\n",
    "print(video_comments_df.head())"
   ]
  },
  {
   "cell_type": "markdown",
   "metadata": {},
   "source": [
    "## Database Creation"
   ]
  },
  {
   "cell_type": "markdown",
   "metadata": {},
   "source": [
    "Now we'll export both of these tables as separate CSV files. We'll also create a single row CSV file containing the channel metrics to better represent relational databases."
   ]
  },
  {
   "cell_type": "code",
   "execution_count": 6,
   "metadata": {},
   "outputs": [],
   "source": [
    "video_metric_df.to_csv('csv/video_metrics.csv')\n",
    "video_comments_df.to_csv('csv/video_comments.csv')"
   ]
  }
 ],
 "metadata": {
  "kernelspec": {
   "display_name": "Python 3",
   "language": "python",
   "name": "python3"
  },
  "language_info": {
   "codemirror_mode": {
    "name": "ipython",
    "version": 3
   },
   "file_extension": ".py",
   "mimetype": "text/x-python",
   "name": "python",
   "nbconvert_exporter": "python",
   "pygments_lexer": "ipython3",
   "version": "3.8.8"
  }
 },
 "nbformat": 4,
 "nbformat_minor": 2
}
