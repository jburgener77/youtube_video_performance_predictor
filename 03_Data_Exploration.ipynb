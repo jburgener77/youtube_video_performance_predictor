{
 "cells": [
  {
   "cell_type": "markdown",
   "metadata": {},
   "source": [
    "# Data Exploration from Cleaned Data"
   ]
  },
  {
   "cell_type": "markdown",
   "metadata": {},
   "source": [
    "## Setup"
   ]
  },
  {
   "cell_type": "markdown",
   "metadata": {},
   "source": [
    "Previously we cleaned the video_metrics_df and video_comments_df tables and uploaded them to Google's BigQuery platform. This platform allows us to utilize the cloud to perform SQL operations."
   ]
  },
  {
   "cell_type": "markdown",
   "metadata": {},
   "source": [
    "First we need to install and import Google's BigQuery library which allows us to call the API and access the uploaded data."
   ]
  },
  {
   "cell_type": "markdown",
   "metadata": {},
   "source": [
    "Next, a Google service account needs to be created to access the BigQuery database we created. To do that I followed the insturctions [here](https://cloud.google.com/bigquery/docs/quickstarts/quickstart-client-libraries)."
   ]
  },
  {
   "cell_type": "markdown",
   "metadata": {},
   "source": [
    "We can confirm that the BigQuery API is working by previewing writing a SQL command to preview all the rows of the video_metrics_cleaned table."
   ]
  },
  {
   "cell_type": "code",
   "execution_count": 3,
   "metadata": {},
   "outputs": [
    {
     "data": {
      "text/html": [
       "<div>\n",
       "<style scoped>\n",
       "    .dataframe tbody tr th:only-of-type {\n",
       "        vertical-align: middle;\n",
       "    }\n",
       "\n",
       "    .dataframe tbody tr th {\n",
       "        vertical-align: top;\n",
       "    }\n",
       "\n",
       "    .dataframe thead th {\n",
       "        text-align: right;\n",
       "    }\n",
       "</style>\n",
       "<table border=\"1\" class=\"dataframe\">\n",
       "  <thead>\n",
       "    <tr style=\"text-align: right;\">\n",
       "      <th></th>\n",
       "      <th>int64_field_0</th>\n",
       "      <th>channel_name</th>\n",
       "      <th>video_id</th>\n",
       "      <th>title</th>\n",
       "      <th>published_at</th>\n",
       "      <th>description</th>\n",
       "      <th>thumbnail_url</th>\n",
       "      <th>tags</th>\n",
       "      <th>category_id</th>\n",
       "      <th>duration</th>\n",
       "      <th>view_count</th>\n",
       "      <th>like_count</th>\n",
       "      <th>fav_count</th>\n",
       "      <th>comment_count</th>\n",
       "    </tr>\n",
       "  </thead>\n",
       "  <tbody>\n",
       "    <tr>\n",
       "      <th>0</th>\n",
       "      <td>3</td>\n",
       "      <td>Why I Salty</td>\n",
       "      <td>K3s5zrG4t1c</td>\n",
       "      <td>Got a Job for you, 621: Mission 11 | Armored C...</td>\n",
       "      <td>2023-11-12 05:00:08+00:00</td>\n",
       "      <td>#armoredcore6 #bobthebuilder \\n\\nAI can only d...</td>\n",
       "      <td>https://i.ytimg.com/vi/K3s5zrG4t1c/default.jpg</td>\n",
       "      <td>['armored core', 'Gundam', 'Anime', 'ac6', 'Ga...</td>\n",
       "      <td>20</td>\n",
       "      <td>PT1M23S</td>\n",
       "      <td>4829</td>\n",
       "      <td>549</td>\n",
       "      <td>0</td>\n",
       "      <td>50</td>\n",
       "    </tr>\n",
       "    <tr>\n",
       "      <th>1</th>\n",
       "      <td>4</td>\n",
       "      <td>Why I Salty</td>\n",
       "      <td>HypJk4azqAE</td>\n",
       "      <td>Pepperidge Farm Remember | Armored Core VI</td>\n",
       "      <td>2023-11-11 03:58:05+00:00</td>\n",
       "      <td>#armoredcore6 #familyguy #asmongold \\n\\nJust t...</td>\n",
       "      <td>https://i.ytimg.com/vi/HypJk4azqAE/default.jpg</td>\n",
       "      <td>['armored core', 'Gundam', 'Anime', 'ac6', 'Ga...</td>\n",
       "      <td>20</td>\n",
       "      <td>PT22S</td>\n",
       "      <td>2524</td>\n",
       "      <td>239</td>\n",
       "      <td>0</td>\n",
       "      <td>24</td>\n",
       "    </tr>\n",
       "    <tr>\n",
       "      <th>2</th>\n",
       "      <td>14</td>\n",
       "      <td>Why I Salty</td>\n",
       "      <td>tsmFLhITvGY</td>\n",
       "      <td>Got a Job for you, 621: Mission 10 | Armored C...</td>\n",
       "      <td>2023-11-04 04:00:25+00:00</td>\n",
       "      <td>#armoredcore6 @SpongeBobOfficial \\n\\nDecided t...</td>\n",
       "      <td>https://i.ytimg.com/vi/tsmFLhITvGY/default.jpg</td>\n",
       "      <td>['armored core', 'Gundam', 'Anime', 'ac6', 'Ga...</td>\n",
       "      <td>20</td>\n",
       "      <td>PT2M3S</td>\n",
       "      <td>7127</td>\n",
       "      <td>613</td>\n",
       "      <td>0</td>\n",
       "      <td>37</td>\n",
       "    </tr>\n",
       "    <tr>\n",
       "      <th>3</th>\n",
       "      <td>17</td>\n",
       "      <td>Why I Salty</td>\n",
       "      <td>qls8YCcN8T4</td>\n",
       "      <td>WE DID IT!  Asmongold Reacted to EP3</td>\n",
       "      <td>2023-11-01 21:05:17+00:00</td>\n",
       "      <td>#armoredcore6 #asmongold #mcdonalds \\n\\nI neve...</td>\n",
       "      <td>https://i.ytimg.com/vi/qls8YCcN8T4/default.jpg</td>\n",
       "      <td>['armored core', 'Gundam', 'Anime', 'ac6', 'Ga...</td>\n",
       "      <td>20</td>\n",
       "      <td>PT8M37S</td>\n",
       "      <td>6187</td>\n",
       "      <td>912</td>\n",
       "      <td>0</td>\n",
       "      <td>61</td>\n",
       "    </tr>\n",
       "    <tr>\n",
       "      <th>4</th>\n",
       "      <td>19</td>\n",
       "      <td>Why I Salty</td>\n",
       "      <td>Hv_dkdAp8SQ</td>\n",
       "      <td>Not Part of Your World | Armored Core VI</td>\n",
       "      <td>2023-11-01 05:36:37+00:00</td>\n",
       "      <td>#armoredcore6 \\n\\nWhen i made the meme \"Booty ...</td>\n",
       "      <td>https://i.ytimg.com/vi/Hv_dkdAp8SQ/default.jpg</td>\n",
       "      <td>['armored core', 'Gundam', 'Anime', 'ac6', 'Ga...</td>\n",
       "      <td>20</td>\n",
       "      <td>PT1M29S</td>\n",
       "      <td>9400</td>\n",
       "      <td>939</td>\n",
       "      <td>0</td>\n",
       "      <td>91</td>\n",
       "    </tr>\n",
       "  </tbody>\n",
       "</table>\n",
       "</div>"
      ],
      "text/plain": [
       "   int64_field_0 channel_name     video_id  \\\n",
       "0              3  Why I Salty  K3s5zrG4t1c   \n",
       "1              4  Why I Salty  HypJk4azqAE   \n",
       "2             14  Why I Salty  tsmFLhITvGY   \n",
       "3             17  Why I Salty  qls8YCcN8T4   \n",
       "4             19  Why I Salty  Hv_dkdAp8SQ   \n",
       "\n",
       "                                               title  \\\n",
       "0  Got a Job for you, 621: Mission 11 | Armored C...   \n",
       "1         Pepperidge Farm Remember | Armored Core VI   \n",
       "2  Got a Job for you, 621: Mission 10 | Armored C...   \n",
       "3               WE DID IT!  Asmongold Reacted to EP3   \n",
       "4           Not Part of Your World | Armored Core VI   \n",
       "\n",
       "               published_at  \\\n",
       "0 2023-11-12 05:00:08+00:00   \n",
       "1 2023-11-11 03:58:05+00:00   \n",
       "2 2023-11-04 04:00:25+00:00   \n",
       "3 2023-11-01 21:05:17+00:00   \n",
       "4 2023-11-01 05:36:37+00:00   \n",
       "\n",
       "                                         description  \\\n",
       "0  #armoredcore6 #bobthebuilder \\n\\nAI can only d...   \n",
       "1  #armoredcore6 #familyguy #asmongold \\n\\nJust t...   \n",
       "2  #armoredcore6 @SpongeBobOfficial \\n\\nDecided t...   \n",
       "3  #armoredcore6 #asmongold #mcdonalds \\n\\nI neve...   \n",
       "4  #armoredcore6 \\n\\nWhen i made the meme \"Booty ...   \n",
       "\n",
       "                                    thumbnail_url  \\\n",
       "0  https://i.ytimg.com/vi/K3s5zrG4t1c/default.jpg   \n",
       "1  https://i.ytimg.com/vi/HypJk4azqAE/default.jpg   \n",
       "2  https://i.ytimg.com/vi/tsmFLhITvGY/default.jpg   \n",
       "3  https://i.ytimg.com/vi/qls8YCcN8T4/default.jpg   \n",
       "4  https://i.ytimg.com/vi/Hv_dkdAp8SQ/default.jpg   \n",
       "\n",
       "                                                tags  category_id duration  \\\n",
       "0  ['armored core', 'Gundam', 'Anime', 'ac6', 'Ga...           20  PT1M23S   \n",
       "1  ['armored core', 'Gundam', 'Anime', 'ac6', 'Ga...           20    PT22S   \n",
       "2  ['armored core', 'Gundam', 'Anime', 'ac6', 'Ga...           20   PT2M3S   \n",
       "3  ['armored core', 'Gundam', 'Anime', 'ac6', 'Ga...           20  PT8M37S   \n",
       "4  ['armored core', 'Gundam', 'Anime', 'ac6', 'Ga...           20  PT1M29S   \n",
       "\n",
       "   view_count  like_count  fav_count  comment_count  \n",
       "0        4829         549          0             50  \n",
       "1        2524         239          0             24  \n",
       "2        7127         613          0             37  \n",
       "3        6187         912          0             61  \n",
       "4        9400         939          0             91  "
      ]
     },
     "execution_count": 3,
     "metadata": {},
     "output_type": "execute_result"
    }
   ],
   "source": [
    "from google.cloud import bigquery\n",
    "from google.oauth2 import service_account\n",
    "import pandas as pd\n",
    "import config as cfg\n",
    "import os\n",
    "\n",
    "sa_credentials = 'gpc/youtube-scraper-404402-a6dc21ea107a.json' # download from service_account page\n",
    "os.environ[\"GOOGLE_APPLICATION_CREDENTIALS\"] = sa_credentials\n",
    "\n",
    "credentials = service_account.Credentials.from_service_account_file(\n",
    "    sa_credentials, scopes=[\"https://www.googleapis.com/auth/cloud-platform\"]\n",
    ")\n",
    "\n",
    "query_string = \"\"\"\n",
    "\n",
    "SELECT * FROM youtube-scraper-404402.yt_data.video_metrics_cleaned LIMIT 5\n",
    "\n",
    "\"\"\"\n",
    "\n",
    "bq_client = bigquery.Client(credentials=credentials, project=credentials.project_id)\n",
    "df = bq_client.query(query_string).to_dataframe()\n",
    "\n",
    "df"
   ]
  },
  {
   "cell_type": "markdown",
   "metadata": {},
   "source": [
    "## Data Exploration by SQL"
   ]
  },
  {
   "cell_type": "markdown",
   "metadata": {},
   "source": [
    "Now let's look at a couple queries:\n",
    "1. What is the average view count based on category?\n",
    "2. How many views, likes, and comments did videos gain per year?\n",
    "3. What are the top 10 videos by views?\n",
    "4. How many viewers have commented on multiple videos?"
   ]
  },
  {
   "cell_type": "code",
   "execution_count": 5,
   "metadata": {},
   "outputs": [
    {
     "data": {
      "text/html": [
       "<div>\n",
       "<style scoped>\n",
       "    .dataframe tbody tr th:only-of-type {\n",
       "        vertical-align: middle;\n",
       "    }\n",
       "\n",
       "    .dataframe tbody tr th {\n",
       "        vertical-align: top;\n",
       "    }\n",
       "\n",
       "    .dataframe thead th {\n",
       "        text-align: right;\n",
       "    }\n",
       "</style>\n",
       "<table border=\"1\" class=\"dataframe\">\n",
       "  <thead>\n",
       "    <tr style=\"text-align: right;\">\n",
       "      <th></th>\n",
       "      <th>category_id</th>\n",
       "      <th>total_videos</th>\n",
       "      <th>average_views</th>\n",
       "      <th>average_likes</th>\n",
       "      <th>average_total_comments</th>\n",
       "    </tr>\n",
       "  </thead>\n",
       "  <tbody>\n",
       "    <tr>\n",
       "      <th>0</th>\n",
       "      <td>20</td>\n",
       "      <td>502</td>\n",
       "      <td>2345.304781</td>\n",
       "      <td>147.88247</td>\n",
       "      <td>11.669323</td>\n",
       "    </tr>\n",
       "    <tr>\n",
       "      <th>1</th>\n",
       "      <td>24</td>\n",
       "      <td>6</td>\n",
       "      <td>167.000000</td>\n",
       "      <td>12.50000</td>\n",
       "      <td>1.333333</td>\n",
       "    </tr>\n",
       "  </tbody>\n",
       "</table>\n",
       "</div>"
      ],
      "text/plain": [
       "   category_id  total_videos  average_views  average_likes  \\\n",
       "0           20           502    2345.304781      147.88247   \n",
       "1           24             6     167.000000       12.50000   \n",
       "\n",
       "   average_total_comments  \n",
       "0               11.669323  \n",
       "1                1.333333  "
      ]
     },
     "execution_count": 5,
     "metadata": {},
     "output_type": "execute_result"
    }
   ],
   "source": [
    "query_string = \"\"\"\n",
    "SELECT \n",
    "    REPLACE(), \n",
    "    COUNT(*) AS total_videos,\n",
    "    AVG(view_count) AS average_views,\n",
    "    AVG(like_count) AS average_likes,\n",
    "    AVG(comment_count) AS average_total_comments\n",
    "FROM youtube-scraper-404402.yt_data.video_metrics_cleaned\n",
    "GROUP BY category_id\n",
    "\"\"\"\n",
    "bq_client.query(query_string).to_dataframe()"
   ]
  },
  {
   "cell_type": "code",
   "execution_count": 20,
   "metadata": {},
   "outputs": [
    {
     "data": {
      "text/html": [
       "<div>\n",
       "<style scoped>\n",
       "    .dataframe tbody tr th:only-of-type {\n",
       "        vertical-align: middle;\n",
       "    }\n",
       "\n",
       "    .dataframe tbody tr th {\n",
       "        vertical-align: top;\n",
       "    }\n",
       "\n",
       "    .dataframe thead th {\n",
       "        text-align: right;\n",
       "    }\n",
       "</style>\n",
       "<table border=\"1\" class=\"dataframe\">\n",
       "  <thead>\n",
       "    <tr style=\"text-align: right;\">\n",
       "      <th></th>\n",
       "      <th>publish_year</th>\n",
       "      <th>total_videos</th>\n",
       "      <th>total_views</th>\n",
       "      <th>total_likes</th>\n",
       "      <th>total_favs</th>\n",
       "      <th>total_comments</th>\n",
       "    </tr>\n",
       "  </thead>\n",
       "  <tbody>\n",
       "    <tr>\n",
       "      <th>0</th>\n",
       "      <td>2019</td>\n",
       "      <td>30</td>\n",
       "      <td>8683</td>\n",
       "      <td>247</td>\n",
       "      <td>0</td>\n",
       "      <td>35</td>\n",
       "    </tr>\n",
       "    <tr>\n",
       "      <th>1</th>\n",
       "      <td>2020</td>\n",
       "      <td>138</td>\n",
       "      <td>55676</td>\n",
       "      <td>1712</td>\n",
       "      <td>0</td>\n",
       "      <td>406</td>\n",
       "    </tr>\n",
       "    <tr>\n",
       "      <th>2</th>\n",
       "      <td>2021</td>\n",
       "      <td>103</td>\n",
       "      <td>45974</td>\n",
       "      <td>1615</td>\n",
       "      <td>0</td>\n",
       "      <td>254</td>\n",
       "    </tr>\n",
       "    <tr>\n",
       "      <th>3</th>\n",
       "      <td>2022</td>\n",
       "      <td>78</td>\n",
       "      <td>39075</td>\n",
       "      <td>1550</td>\n",
       "      <td>0</td>\n",
       "      <td>241</td>\n",
       "    </tr>\n",
       "    <tr>\n",
       "      <th>4</th>\n",
       "      <td>2023</td>\n",
       "      <td>159</td>\n",
       "      <td>1028937</td>\n",
       "      <td>69188</td>\n",
       "      <td>0</td>\n",
       "      <td>4930</td>\n",
       "    </tr>\n",
       "  </tbody>\n",
       "</table>\n",
       "</div>"
      ],
      "text/plain": [
       "   publish_year  total_videos  total_views  total_likes  total_favs  \\\n",
       "0          2019            30         8683          247           0   \n",
       "1          2020           138        55676         1712           0   \n",
       "2          2021           103        45974         1615           0   \n",
       "3          2022            78        39075         1550           0   \n",
       "4          2023           159      1028937        69188           0   \n",
       "\n",
       "   total_comments  \n",
       "0              35  \n",
       "1             406  \n",
       "2             254  \n",
       "3             241  \n",
       "4            4930  "
      ]
     },
     "execution_count": 20,
     "metadata": {},
     "output_type": "execute_result"
    }
   ],
   "source": [
    "query_string = \"\"\"\n",
    "SELECT \n",
    "    EXTRACT(YEAR FROM published_at) AS publish_year,\n",
    "    COUNT(*) AS total_videos,\n",
    "    SUM(view_count) AS total_views,\n",
    "    SUM(like_count) AS total_likes,\n",
    "    SUM(fav_count) AS total_favs,\n",
    "    SUM(comment_count) as total_comments\n",
    "FROM youtube-scraper-404402.yt_data.video_metrics_cleaned\n",
    "GROUP BY publish_year\n",
    "ORDER BY publish_year\n",
    "\"\"\"\n",
    "bq_client.query(query_string).to_dataframe()"
   ]
  },
  {
   "cell_type": "code",
   "execution_count": 28,
   "metadata": {},
   "outputs": [
    {
     "data": {
      "text/html": [
       "<div>\n",
       "<style scoped>\n",
       "    .dataframe tbody tr th:only-of-type {\n",
       "        vertical-align: middle;\n",
       "    }\n",
       "\n",
       "    .dataframe tbody tr th {\n",
       "        vertical-align: top;\n",
       "    }\n",
       "\n",
       "    .dataframe thead th {\n",
       "        text-align: right;\n",
       "    }\n",
       "</style>\n",
       "<table border=\"1\" class=\"dataframe\">\n",
       "  <thead>\n",
       "    <tr style=\"text-align: right;\">\n",
       "      <th></th>\n",
       "      <th>title</th>\n",
       "      <th>view_count</th>\n",
       "    </tr>\n",
       "  </thead>\n",
       "  <tbody>\n",
       "    <tr>\n",
       "      <th>0</th>\n",
       "      <td>Raven Don't Listen to Ayre (A.I Voice Test).</td>\n",
       "      <td>169898</td>\n",
       "    </tr>\n",
       "    <tr>\n",
       "      <th>1</th>\n",
       "      <td>Raven Please... | Armored Core VI</td>\n",
       "      <td>107156</td>\n",
       "    </tr>\n",
       "    <tr>\n",
       "      <th>2</th>\n",
       "      <td>Your Next Target, 621 | Asmongold Reacts</td>\n",
       "      <td>66195</td>\n",
       "    </tr>\n",
       "    <tr>\n",
       "      <th>3</th>\n",
       "      <td>Got a Job for you, 621: Mission 1 | Armored Co...</td>\n",
       "      <td>61226</td>\n",
       "    </tr>\n",
       "    <tr>\n",
       "      <th>4</th>\n",
       "      <td>Got a Job for you, 621: Mission 2 | Armored Co...</td>\n",
       "      <td>59181</td>\n",
       "    </tr>\n",
       "    <tr>\n",
       "      <th>5</th>\n",
       "      <td>Got a Job for you, 621: Mission 0 | Armored Co...</td>\n",
       "      <td>56188</td>\n",
       "    </tr>\n",
       "    <tr>\n",
       "      <th>6</th>\n",
       "      <td>Booty Call | Armored Core VI</td>\n",
       "      <td>36502</td>\n",
       "    </tr>\n",
       "    <tr>\n",
       "      <th>7</th>\n",
       "      <td>Express Delivery | Armored Core VI</td>\n",
       "      <td>34016</td>\n",
       "    </tr>\n",
       "    <tr>\n",
       "      <th>8</th>\n",
       "      <td>Was it worth it Raven? | Armored Core VI</td>\n",
       "      <td>31429</td>\n",
       "    </tr>\n",
       "    <tr>\n",
       "      <th>9</th>\n",
       "      <td>Hey Buddy | Armored Core VI</td>\n",
       "      <td>28623</td>\n",
       "    </tr>\n",
       "  </tbody>\n",
       "</table>\n",
       "</div>"
      ],
      "text/plain": [
       "                                               title  view_count\n",
       "0       Raven Don't Listen to Ayre (A.I Voice Test).      169898\n",
       "1                  Raven Please... | Armored Core VI      107156\n",
       "2           Your Next Target, 621 | Asmongold Reacts       66195\n",
       "3  Got a Job for you, 621: Mission 1 | Armored Co...       61226\n",
       "4  Got a Job for you, 621: Mission 2 | Armored Co...       59181\n",
       "5  Got a Job for you, 621: Mission 0 | Armored Co...       56188\n",
       "6                       Booty Call | Armored Core VI       36502\n",
       "7                 Express Delivery | Armored Core VI       34016\n",
       "8           Was it worth it Raven? | Armored Core VI       31429\n",
       "9                        Hey Buddy | Armored Core VI       28623"
      ]
     },
     "execution_count": 28,
     "metadata": {},
     "output_type": "execute_result"
    }
   ],
   "source": [
    "query_string = \"\"\"\n",
    "SELECT \n",
    "    title,\n",
    "    view_count\n",
    "FROM youtube-scraper-404402.yt_data.video_metrics_cleaned\n",
    "ORDER BY view_count DESC\n",
    "LIMIT 10\n",
    "\"\"\"\n",
    "bq_client.query(query_string).to_dataframe()"
   ]
  },
  {
   "cell_type": "code",
   "execution_count": 39,
   "metadata": {},
   "outputs": [
    {
     "data": {
      "text/html": [
       "<div>\n",
       "<style scoped>\n",
       "    .dataframe tbody tr th:only-of-type {\n",
       "        vertical-align: middle;\n",
       "    }\n",
       "\n",
       "    .dataframe tbody tr th {\n",
       "        vertical-align: top;\n",
       "    }\n",
       "\n",
       "    .dataframe thead th {\n",
       "        text-align: right;\n",
       "    }\n",
       "</style>\n",
       "<table border=\"1\" class=\"dataframe\">\n",
       "  <thead>\n",
       "    <tr style=\"text-align: right;\">\n",
       "      <th></th>\n",
       "      <th>video_comment_user</th>\n",
       "      <th>total_comments</th>\n",
       "      <th>number_of_videos</th>\n",
       "    </tr>\n",
       "  </thead>\n",
       "  <tbody>\n",
       "    <tr>\n",
       "      <th>0</th>\n",
       "      <td>jPaolo</td>\n",
       "      <td>70</td>\n",
       "      <td>63</td>\n",
       "    </tr>\n",
       "    <tr>\n",
       "      <th>1</th>\n",
       "      <td>taylormadetactics</td>\n",
       "      <td>48</td>\n",
       "      <td>42</td>\n",
       "    </tr>\n",
       "    <tr>\n",
       "      <th>2</th>\n",
       "      <td>Dizzy[sic]</td>\n",
       "      <td>46</td>\n",
       "      <td>40</td>\n",
       "    </tr>\n",
       "    <tr>\n",
       "      <th>3</th>\n",
       "      <td>Mirage Nikita</td>\n",
       "      <td>25</td>\n",
       "      <td>18</td>\n",
       "    </tr>\n",
       "    <tr>\n",
       "      <th>4</th>\n",
       "      <td>Yossa</td>\n",
       "      <td>25</td>\n",
       "      <td>21</td>\n",
       "    </tr>\n",
       "    <tr>\n",
       "      <th>5</th>\n",
       "      <td>Eternal &amp;Misery</td>\n",
       "      <td>25</td>\n",
       "      <td>22</td>\n",
       "    </tr>\n",
       "    <tr>\n",
       "      <th>6</th>\n",
       "      <td>HonzaLuH</td>\n",
       "      <td>21</td>\n",
       "      <td>17</td>\n",
       "    </tr>\n",
       "    <tr>\n",
       "      <th>7</th>\n",
       "      <td>Harold Thomas</td>\n",
       "      <td>14</td>\n",
       "      <td>9</td>\n",
       "    </tr>\n",
       "    <tr>\n",
       "      <th>8</th>\n",
       "      <td>ÇakmakÇakmak</td>\n",
       "      <td>14</td>\n",
       "      <td>11</td>\n",
       "    </tr>\n",
       "    <tr>\n",
       "      <th>9</th>\n",
       "      <td>naniii?</td>\n",
       "      <td>14</td>\n",
       "      <td>14</td>\n",
       "    </tr>\n",
       "  </tbody>\n",
       "</table>\n",
       "</div>"
      ],
      "text/plain": [
       "  video_comment_user  total_comments  number_of_videos\n",
       "0             jPaolo              70                63\n",
       "1  taylormadetactics              48                42\n",
       "2         Dizzy[sic]              46                40\n",
       "3      Mirage Nikita              25                18\n",
       "4              Yossa              25                21\n",
       "5    Eternal &Misery              25                22\n",
       "6           HonzaLuH              21                17\n",
       "7      Harold Thomas              14                 9\n",
       "8       ÇakmakÇakmak              14                11\n",
       "9            naniii?              14                14"
      ]
     },
     "execution_count": 39,
     "metadata": {},
     "output_type": "execute_result"
    }
   ],
   "source": [
    "query_string = \"\"\"\n",
    "SELECT \n",
    "    video_comment_user,\n",
    "    COUNT(video_comment_user) AS total_comments,\n",
    "    COUNT(DISTINCT video_id) AS number_of_videos\n",
    "FROM youtube-scraper-404402.yt_data.video_comments_cleaned\n",
    "WHERE video_comment_user <> 'Why I Salty'\n",
    "GROUP BY video_comment_user\n",
    "ORDER BY total_comments DESC\n",
    "LIMIT 10\n",
    "\"\"\"\n",
    "bq_client.query(query_string).to_dataframe()"
   ]
  },
  {
   "cell_type": "markdown",
   "metadata": {},
   "source": [
    "## Data Exploration by Pandas/Matplotlib"
   ]
  },
  {
   "cell_type": "markdown",
   "metadata": {},
   "source": [
    "Now let's read in both files as Pandas dataframes and plot some comparisons between metrics."
   ]
  },
  {
   "cell_type": "code",
   "execution_count": 40,
   "metadata": {},
   "outputs": [],
   "source": [
    "query_string = \"\"\"\n",
    "SELECT \n",
    "    *\n",
    "FROM youtube-scraper-404402.yt_data.video_metrics_cleaned\n",
    "\"\"\"\n",
    "video_metrics_df = bq_client.query(query_string).to_dataframe()\n",
    "\n",
    "query_string = \"\"\"\n",
    "SELECT \n",
    "    *\n",
    "FROM youtube-scraper-404402.yt_data.video_comments_cleaned\n",
    "\"\"\"\n",
    "video_comments_df = bq_client.query(query_string).to_dataframe()"
   ]
  },
  {
   "cell_type": "markdown",
   "metadata": {},
   "source": [
    "How do the video metrics correlate with each other? How are they distributed?"
   ]
  },
  {
   "cell_type": "code",
   "execution_count": 91,
   "metadata": {},
   "outputs": [],
   "source": [
    "from matplotlib import pyplot as plt\n",
    "import seaborn as sns"
   ]
  },
  {
   "cell_type": "code",
   "execution_count": 155,
   "metadata": {},
   "outputs": [
    {
     "data": {
      "text/plain": [
       "Text(0.5, 1, 'Channel Video Metrics')"
      ]
     },
     "execution_count": 155,
     "metadata": {},
     "output_type": "execute_result"
    },
    {
     "data": {
      "image/png": "[encoded data removed]",
      "text/plain": [
       "<Figure size 540x540 with 12 Axes>"
      ]
     },
     "metadata": {
      "needs_background": "light"
     },
     "output_type": "display_data"
    }
   ],
   "source": [
    "\n",
    "plot_df = video_metrics_df[['view_count', 'comment_count', 'like_count']].copy()\n",
    "plot_df = plot_df.astype('float64')\n",
    "g = sns.PairGrid(plot_df)\n",
    "g.map_diag(sns.kdeplot)\n",
    "g.map_lower(sns.scatterplot)\n",
    "g.map_upper(sns.kdeplot)\n",
    "\n",
    "g.axes[0,0].set_ylabel('No. Views')\n",
    "g.axes[1,0].set_ylabel('No. Comments')\n",
    "g.axes[2,0].set_ylabel('No. Likes')\n",
    "\n",
    "g.axes[2,0].set_xlabel('No. Views')\n",
    "g.axes[2,1].set_xlabel('No. Comments')\n",
    "g.axes[2,2].set_xlabel('No. Likes')\n",
    "\n",
    "g.fig.suptitle('Channel Video Metrics', y=1)"
   ]
  },
  {
   "cell_type": "markdown",
   "metadata": {},
   "source": [
    "There seem to be some extreme outliers, does standardizing the data help?"
   ]
  },
  {
   "cell_type": "code",
   "execution_count": 183,
   "metadata": {},
   "outputs": [
    {
     "name": "stdout",
     "output_type": "stream",
     "text": [
      "z score generated for view_count\n",
      "z score generated for comment_count\n",
      "z score generated for like_count\n",
      "z score generated for view_count_zscore\n",
      "z score generated for comment_count_zscore\n",
      "z score generated for like_count_zscore\n"
     ]
    }
   ],
   "source": [
    "from scipy import stats\n",
    "import numpy as np\n",
    "\n",
    "for col in plot_df:\n",
    "    z_score = stats.zscore(plot_df[col].values)\n",
    "    plot_df[f'{col}_zscore'] = z_score\n",
    "    print(f'z score generated for {col}')"
   ]
  },
  {
   "cell_type": "code",
   "execution_count": 154,
   "metadata": {},
   "outputs": [
    {
     "data": {
      "text/plain": [
       "Text(0.5, 1, 'Channel Video Metrics (Scaled)')"
      ]
     },
     "execution_count": 154,
     "metadata": {},
     "output_type": "execute_result"
    },
    {
     "data": {
      "image/png": "[encoded data removed]",
      "text/plain": [
       "<Figure size 540x540 with 12 Axes>"
      ]
     },
     "metadata": {
      "needs_background": "light"
     },
     "output_type": "display_data"
    }
   ],
   "source": [
    "vars = ['view_count_zscore', 'comment_count_zscore', 'like_count_zscore']\n",
    "g = sns.PairGrid(plot_df, vars=vars)\n",
    "g.map_diag(sns.kdeplot)\n",
    "g.map_lower(sns.scatterplot)\n",
    "g.map_upper(sns.kdeplot)\n",
    "\n",
    "g.axes[0,0].set_ylabel('No. Views (Scaled)')\n",
    "g.axes[1,0].set_ylabel('No. Comments (Scaled)')\n",
    "g.axes[2,0].set_ylabel('No. Likes (Scaled)')\n",
    "\n",
    "g.axes[2,0].set_xlabel('No. Views (Scaled)')\n",
    "g.axes[2,1].set_xlabel('No. Comments (Scaled)')\n",
    "g.axes[2,2].set_xlabel('No. Likes (Scaled)')\n",
    "g.fig.suptitle('Channel Video Metrics (Scaled)', y=1)"
   ]
  },
  {
   "cell_type": "markdown",
   "metadata": {},
   "source": [
    "As expected, video metrics are stronlgy correlated with one another and likely reflects viewer engagement.\n",
    "\n",
    "Can we get a sense of how views are distributed between videos with engagement (viewer comments) vs. non-engagement? (no viewer comments)."
   ]
  },
  {
   "cell_type": "code",
   "execution_count": 209,
   "metadata": {},
   "outputs": [
    {
     "data": {
      "image/png": "[encoded data removed]",
      "text/plain": [
       "<Figure size 720x360 with 2 Axes>"
      ]
     },
     "metadata": {
      "needs_background": "light"
     },
     "output_type": "display_data"
    }
   ],
   "source": [
    "engaged_viewship = [\n",
    "    plot_df[plot_df['comment_count'] > 0]['view_count'].values,\n",
    "    plot_df[plot_df['comment_count'] == 0]['view_count'].values\n",
    "]\n",
    "\n",
    "fig, (ax1, ax2) = plt.subplots(1, 2, figsize=(10,5))\n",
    "\n",
    "bplot1 = ax1.boxplot(engaged_viewship, patch_artist=True, notch=True)\n",
    "ax1.set_xticklabels(['Engagement', 'No Engagement'])\n",
    "\n",
    "bplot2= ax2.boxplot(engaged_viewship, patch_artist=True, notch=True)\n",
    "ax2.set_xticklabels(['Engagement', 'No Engagement'])\n",
    "\n",
    "colors = [\"#e60049\", \"#0bb4ff\", \"#50e991\", \"#e6d800\", \"#9b19f5\", \"#ffa300\", \"#dc0ab4\", \"#b3d4ff\", \"#00bfa0\"]\n",
    "\n",
    "for bplot in (bplot1, bplot2):\n",
    "    for patch, color in zip(bplot['boxes'], colors):\n",
    "        patch.set_facecolor(color)\n",
    "\n",
    "plot_min = np.min([x for sublist in engaged_viewship for x in sublist])\n",
    "plot_max = np.quantile([x for sublist in engaged_viewship for x in sublist], 0.9)\n",
    "\n",
    "ax2.set_ylim(plot_min-10,plot_max)\n",
    "ax1.set_ylabel('No. Views')\n",
    "\n",
    "ax1.set_title('All Views')\n",
    "ax2.set_title('Views below 90th Percentile')\n",
    "\n",
    "fig.suptitle('Views based on Viewer Engagement')\n",
    "\n",
    "plt.show()"
   ]
  },
  {
   "cell_type": "markdown",
   "metadata": {},
   "source": [
    "Interestingly there doesn't seem to be a clear separation in views between videos with or without user engagement. Perhaps there are other factors that contribute to this that requires further refinement of the data."
   ]
  }
 ],
 "metadata": {
  "kernelspec": {
   "display_name": "Python 3",
   "language": "python",
   "name": "python3"
  },
  "language_info": {
   "codemirror_mode": {
    "name": "ipython",
    "version": 3
   },
   "file_extension": ".py",
   "mimetype": "text/x-python",
   "name": "python",
   "nbconvert_exporter": "python",
   "pygments_lexer": "ipython3",
   "version": "3.8.8"
  }
 },
 "nbformat": 4,
 "nbformat_minor": 2
}
