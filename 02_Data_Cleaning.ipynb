{
 "cells": [
  {
   "cell_type": "markdown",
   "metadata": {},
   "source": [
    "# Data Cleaning from Gathered Data"
   ]
  },
  {
   "cell_type": "markdown",
   "metadata": {},
   "source": [
    "## Setup"
   ]
  },
  {
   "cell_type": "markdown",
   "metadata": {},
   "source": [
    "Here we'll use some of the same libraries to clean the data gathered from the YouTube API."
   ]
  },
  {
   "cell_type": "code",
   "execution_count": 1,
   "metadata": {},
   "outputs": [],
   "source": [
    "import pandas as pd\n",
    "import numpy as np"
   ]
  },
  {
   "cell_type": "code",
   "execution_count": 6,
   "metadata": {},
   "outputs": [
    {
     "name": "stdout",
     "output_type": "stream",
     "text": [
      "video_metrics_df shape: (508, 13)\n",
      "video_comments_df shape: (2192, 6)\n"
     ]
    }
   ],
   "source": [
    "video_metrics_df = pd.read_csv('csv/video_metrics.csv', index_col=0)\n",
    "video_comments_df = pd.read_csv('csv/video_comments.csv', index_col=0)\n",
    "print(f'video_metrics_df shape: {video_metrics_df.shape}')\n",
    "print(f'video_comments_df shape: {video_comments_df.shape}')"
   ]
  },
  {
   "cell_type": "markdown",
   "metadata": {},
   "source": [
    "## Cleaning"
   ]
  },
  {
   "cell_type": "markdown",
   "metadata": {},
   "source": [
    "First let's look at the video_metrics_df"
   ]
  },
  {
   "cell_type": "code",
   "execution_count": 9,
   "metadata": {},
   "outputs": [
    {
     "data": {
      "text/plain": [
       "channel_name     object\n",
       "video_id         object\n",
       "title            object\n",
       "published_at     object\n",
       "description      object\n",
       "thumbnail_url    object\n",
       "tags             object\n",
       "category_id       int64\n",
       "duration         object\n",
       "view_count        int64\n",
       "like_count        int64\n",
       "fav_count         int64\n",
       "comment_count     int64\n",
       "dtype: object"
      ]
     },
     "execution_count": 9,
     "metadata": {},
     "output_type": "execute_result"
    }
   ],
   "source": [
    "video_metrics_df.dtypes"
   ]
  },
  {
   "cell_type": "markdown",
   "metadata": {},
   "source": [
    "Based on the above, it looks like that most columns are the expected type; numerical values are integers, strings are objects. 'published_at' and 'duration' should ideally be datetime format, but since we plan to upload these cleaned CSV files to a SQL database we'll refrain for now. 'category_id' should be an object rather than an integer since these values correspond with a separate table that links each category_id to a category name."
   ]
  },
  {
   "cell_type": "code",
   "execution_count": 17,
   "metadata": {},
   "outputs": [
    {
     "name": "stdout",
     "output_type": "stream",
     "text": [
      "count     508\n",
      "unique      2\n",
      "top        20\n",
      "freq      502\n",
      "Name: category_id, dtype: object\n"
     ]
    }
   ],
   "source": [
    "video_metrics_df['category_id'] = video_metrics_df['category_id'].astype('str')\n",
    "print(video_metrics_df['category_id'].describe())"
   ]
  },
  {
   "cell_type": "markdown",
   "metadata": {},
   "source": [
    "Now if we look at the categorical features further."
   ]
  },
  {
   "cell_type": "code",
   "execution_count": 30,
   "metadata": {},
   "outputs": [
    {
     "data": {
      "text/html": [
       "<div>\n",
       "<style scoped>\n",
       "    .dataframe tbody tr th:only-of-type {\n",
       "        vertical-align: middle;\n",
       "    }\n",
       "\n",
       "    .dataframe tbody tr th {\n",
       "        vertical-align: top;\n",
       "    }\n",
       "\n",
       "    .dataframe thead th {\n",
       "        text-align: right;\n",
       "    }\n",
       "</style>\n",
       "<table border=\"1\" class=\"dataframe\">\n",
       "  <thead>\n",
       "    <tr style=\"text-align: right;\">\n",
       "      <th></th>\n",
       "      <th>channel_name</th>\n",
       "      <th>video_id</th>\n",
       "      <th>title</th>\n",
       "      <th>published_at</th>\n",
       "      <th>description</th>\n",
       "      <th>thumbnail_url</th>\n",
       "      <th>tags</th>\n",
       "      <th>category_id</th>\n",
       "      <th>duration</th>\n",
       "    </tr>\n",
       "  </thead>\n",
       "  <tbody>\n",
       "    <tr>\n",
       "      <th>count</th>\n",
       "      <td>508</td>\n",
       "      <td>508</td>\n",
       "      <td>508</td>\n",
       "      <td>508</td>\n",
       "      <td>490</td>\n",
       "      <td>508</td>\n",
       "      <td>508</td>\n",
       "      <td>508</td>\n",
       "      <td>508</td>\n",
       "    </tr>\n",
       "    <tr>\n",
       "      <th>unique</th>\n",
       "      <td>1</td>\n",
       "      <td>508</td>\n",
       "      <td>505</td>\n",
       "      <td>508</td>\n",
       "      <td>461</td>\n",
       "      <td>508</td>\n",
       "      <td>46</td>\n",
       "      <td>2</td>\n",
       "      <td>466</td>\n",
       "    </tr>\n",
       "    <tr>\n",
       "      <th>top</th>\n",
       "      <td>Why I Salty</td>\n",
       "      <td>Sd34QHPBKRA</td>\n",
       "      <td>Salty Brew - Creation Control [Eternal Card Game]</td>\n",
       "      <td>2023-09-30T20:44:24Z</td>\n",
       "      <td>Powered by Restream https://restream.io\\n\\nJus...</td>\n",
       "      <td>https://i.ytimg.com/vi/ezJOf4Zn0Os/default.jpg</td>\n",
       "      <td>none</td>\n",
       "      <td>20</td>\n",
       "      <td>PT1M</td>\n",
       "    </tr>\n",
       "    <tr>\n",
       "      <th>freq</th>\n",
       "      <td>508</td>\n",
       "      <td>1</td>\n",
       "      <td>2</td>\n",
       "      <td>1</td>\n",
       "      <td>9</td>\n",
       "      <td>1</td>\n",
       "      <td>289</td>\n",
       "      <td>502</td>\n",
       "      <td>4</td>\n",
       "    </tr>\n",
       "  </tbody>\n",
       "</table>\n",
       "</div>"
      ],
      "text/plain": [
       "       channel_name     video_id  \\\n",
       "count           508          508   \n",
       "unique            1          508   \n",
       "top     Why I Salty  Sd34QHPBKRA   \n",
       "freq            508            1   \n",
       "\n",
       "                                                    title  \\\n",
       "count                                                 508   \n",
       "unique                                                505   \n",
       "top     Salty Brew - Creation Control [Eternal Card Game]   \n",
       "freq                                                    2   \n",
       "\n",
       "                published_at  \\\n",
       "count                    508   \n",
       "unique                   508   \n",
       "top     2023-09-30T20:44:24Z   \n",
       "freq                       1   \n",
       "\n",
       "                                              description  \\\n",
       "count                                                 490   \n",
       "unique                                                461   \n",
       "top     Powered by Restream https://restream.io\\n\\nJus...   \n",
       "freq                                                    9   \n",
       "\n",
       "                                         thumbnail_url  tags category_id  \\\n",
       "count                                              508   508         508   \n",
       "unique                                             508    46           2   \n",
       "top     https://i.ytimg.com/vi/ezJOf4Zn0Os/default.jpg  none          20   \n",
       "freq                                                 1   289         502   \n",
       "\n",
       "       duration  \n",
       "count       508  \n",
       "unique      466  \n",
       "top        PT1M  \n",
       "freq          4  "
      ]
     },
     "execution_count": 30,
     "metadata": {},
     "output_type": "execute_result"
    }
   ],
   "source": [
    "video_metrics_df.describe(include=['O'])"
   ]
  },
  {
   "cell_type": "markdown",
   "metadata": {},
   "source": [
    "We can see that most columns have unique entries, as each row represents a unique video. We also expect the tags, description, and category IDs to be re-used at times. Interestingly the title of the video appears to be duplicated for a few videos - let's explore why that may be the case."
   ]
  },
  {
   "cell_type": "code",
   "execution_count": 29,
   "metadata": {},
   "outputs": [
    {
     "name": "stdout",
     "output_type": "stream",
     "text": [
      "['Mecha Auto Battler and then some Armored Core | Mechabellum [STREAM]', 'Salty Brew - BULL$%@T XENAN STRANGERS [Eternal Card Game]', 'Salty Brew - Creation Control [Eternal Card Game]']\n"
     ]
    },
    {
     "data": {
      "text/html": [
       "<div>\n",
       "<style scoped>\n",
       "    .dataframe tbody tr th:only-of-type {\n",
       "        vertical-align: middle;\n",
       "    }\n",
       "\n",
       "    .dataframe tbody tr th {\n",
       "        vertical-align: top;\n",
       "    }\n",
       "\n",
       "    .dataframe thead th {\n",
       "        text-align: right;\n",
       "    }\n",
       "</style>\n",
       "<table border=\"1\" class=\"dataframe\">\n",
       "  <thead>\n",
       "    <tr style=\"text-align: right;\">\n",
       "      <th></th>\n",
       "      <th>channel_name</th>\n",
       "      <th>video_id</th>\n",
       "      <th>title</th>\n",
       "      <th>published_at</th>\n",
       "      <th>description</th>\n",
       "      <th>thumbnail_url</th>\n",
       "      <th>tags</th>\n",
       "      <th>category_id</th>\n",
       "      <th>duration</th>\n",
       "      <th>view_count</th>\n",
       "      <th>like_count</th>\n",
       "      <th>fav_count</th>\n",
       "      <th>comment_count</th>\n",
       "    </tr>\n",
       "  </thead>\n",
       "  <tbody>\n",
       "    <tr>\n",
       "      <th>47</th>\n",
       "      <td>Why I Salty</td>\n",
       "      <td>-UrQ--njWvY</td>\n",
       "      <td>Mecha Auto Battler and then some Armored Core ...</td>\n",
       "      <td>2023-10-15T19:39:11Z</td>\n",
       "      <td>Was just mainly going to do a Mecabellum strea...</td>\n",
       "      <td>https://i.ytimg.com/vi/-UrQ--njWvY/default_liv...</td>\n",
       "      <td>['mecha', 'auto battler', 'tft', 'team fight t...</td>\n",
       "      <td>20</td>\n",
       "      <td>P0D</td>\n",
       "      <td>0</td>\n",
       "      <td>0</td>\n",
       "      <td>0</td>\n",
       "      <td>0</td>\n",
       "    </tr>\n",
       "    <tr>\n",
       "      <th>48</th>\n",
       "      <td>Why I Salty</td>\n",
       "      <td>DfV-xuJX6bE</td>\n",
       "      <td>Mecha Auto Battler and then some Armored Core ...</td>\n",
       "      <td>2023-10-14T05:24:00Z</td>\n",
       "      <td>Was just mainly going to do a Mecabellum strea...</td>\n",
       "      <td>https://i.ytimg.com/vi/DfV-xuJX6bE/default.jpg</td>\n",
       "      <td>['mecha', 'auto battler', 'tft', 'team fight t...</td>\n",
       "      <td>20</td>\n",
       "      <td>PT2H20M31S</td>\n",
       "      <td>337</td>\n",
       "      <td>13</td>\n",
       "      <td>0</td>\n",
       "      <td>2</td>\n",
       "    </tr>\n",
       "    <tr>\n",
       "      <th>443</th>\n",
       "      <td>Why I Salty</td>\n",
       "      <td>mRR2JQjzidE</td>\n",
       "      <td>Salty Brew - BULL$%@T XENAN STRANGERS [Eternal...</td>\n",
       "      <td>2020-03-09T00:57:49Z</td>\n",
       "      <td>I got home late from work and decided stream a...</td>\n",
       "      <td>https://i.ytimg.com/vi/mRR2JQjzidE/default.jpg</td>\n",
       "      <td>none</td>\n",
       "      <td>20</td>\n",
       "      <td>PT32M51S</td>\n",
       "      <td>434</td>\n",
       "      <td>10</td>\n",
       "      <td>0</td>\n",
       "      <td>0</td>\n",
       "    </tr>\n",
       "    <tr>\n",
       "      <th>445</th>\n",
       "      <td>Why I Salty</td>\n",
       "      <td>DuMKMM0vFj0</td>\n",
       "      <td>Salty Brew - BULL$%@T XENAN STRANGERS [Eternal...</td>\n",
       "      <td>2020-03-05T06:15:04Z</td>\n",
       "      <td>Warning there is only one match, but it very l...</td>\n",
       "      <td>https://i.ytimg.com/vi/DuMKMM0vFj0/default.jpg</td>\n",
       "      <td>none</td>\n",
       "      <td>20</td>\n",
       "      <td>PT23M29S</td>\n",
       "      <td>290</td>\n",
       "      <td>5</td>\n",
       "      <td>0</td>\n",
       "      <td>1</td>\n",
       "    </tr>\n",
       "    <tr>\n",
       "      <th>446</th>\n",
       "      <td>Why I Salty</td>\n",
       "      <td>b3R1TBYyB28</td>\n",
       "      <td>Salty Brew - Creation Control [Eternal Card Game]</td>\n",
       "      <td>2020-03-04T05:46:33Z</td>\n",
       "      <td>Decided to give creation control another go, b...</td>\n",
       "      <td>https://i.ytimg.com/vi/b3R1TBYyB28/default.jpg</td>\n",
       "      <td>none</td>\n",
       "      <td>20</td>\n",
       "      <td>PT33M25S</td>\n",
       "      <td>466</td>\n",
       "      <td>20</td>\n",
       "      <td>0</td>\n",
       "      <td>5</td>\n",
       "    </tr>\n",
       "    <tr>\n",
       "      <th>459</th>\n",
       "      <td>Why I Salty</td>\n",
       "      <td>Snk0gfToLYY</td>\n",
       "      <td>Salty Brew - Creation Control [Eternal Card Game]</td>\n",
       "      <td>2020-02-15T05:05:54Z</td>\n",
       "      <td>Originally i was trying to make an armory deck...</td>\n",
       "      <td>https://i.ytimg.com/vi/Snk0gfToLYY/default.jpg</td>\n",
       "      <td>none</td>\n",
       "      <td>20</td>\n",
       "      <td>PT32M2S</td>\n",
       "      <td>305</td>\n",
       "      <td>9</td>\n",
       "      <td>0</td>\n",
       "      <td>1</td>\n",
       "    </tr>\n",
       "  </tbody>\n",
       "</table>\n",
       "</div>"
      ],
      "text/plain": [
       "    channel_name     video_id  \\\n",
       "47   Why I Salty  -UrQ--njWvY   \n",
       "48   Why I Salty  DfV-xuJX6bE   \n",
       "443  Why I Salty  mRR2JQjzidE   \n",
       "445  Why I Salty  DuMKMM0vFj0   \n",
       "446  Why I Salty  b3R1TBYyB28   \n",
       "459  Why I Salty  Snk0gfToLYY   \n",
       "\n",
       "                                                 title          published_at  \\\n",
       "47   Mecha Auto Battler and then some Armored Core ...  2023-10-15T19:39:11Z   \n",
       "48   Mecha Auto Battler and then some Armored Core ...  2023-10-14T05:24:00Z   \n",
       "443  Salty Brew - BULL$%@T XENAN STRANGERS [Eternal...  2020-03-09T00:57:49Z   \n",
       "445  Salty Brew - BULL$%@T XENAN STRANGERS [Eternal...  2020-03-05T06:15:04Z   \n",
       "446  Salty Brew - Creation Control [Eternal Card Game]  2020-03-04T05:46:33Z   \n",
       "459  Salty Brew - Creation Control [Eternal Card Game]  2020-02-15T05:05:54Z   \n",
       "\n",
       "                                           description  \\\n",
       "47   Was just mainly going to do a Mecabellum strea...   \n",
       "48   Was just mainly going to do a Mecabellum strea...   \n",
       "443  I got home late from work and decided stream a...   \n",
       "445  Warning there is only one match, but it very l...   \n",
       "446  Decided to give creation control another go, b...   \n",
       "459  Originally i was trying to make an armory deck...   \n",
       "\n",
       "                                         thumbnail_url  \\\n",
       "47   https://i.ytimg.com/vi/-UrQ--njWvY/default_liv...   \n",
       "48      https://i.ytimg.com/vi/DfV-xuJX6bE/default.jpg   \n",
       "443     https://i.ytimg.com/vi/mRR2JQjzidE/default.jpg   \n",
       "445     https://i.ytimg.com/vi/DuMKMM0vFj0/default.jpg   \n",
       "446     https://i.ytimg.com/vi/b3R1TBYyB28/default.jpg   \n",
       "459     https://i.ytimg.com/vi/Snk0gfToLYY/default.jpg   \n",
       "\n",
       "                                                  tags category_id  \\\n",
       "47   ['mecha', 'auto battler', 'tft', 'team fight t...          20   \n",
       "48   ['mecha', 'auto battler', 'tft', 'team fight t...          20   \n",
       "443                                               none          20   \n",
       "445                                               none          20   \n",
       "446                                               none          20   \n",
       "459                                               none          20   \n",
       "\n",
       "       duration  view_count  like_count  fav_count  comment_count  \n",
       "47          P0D           0           0          0              0  \n",
       "48   PT2H20M31S         337          13          0              2  \n",
       "443    PT32M51S         434          10          0              0  \n",
       "445    PT23M29S         290           5          0              1  \n",
       "446    PT33M25S         466          20          0              5  \n",
       "459     PT32M2S         305           9          0              1  "
      ]
     },
     "execution_count": 29,
     "metadata": {},
     "output_type": "execute_result"
    }
   ],
   "source": [
    "duplicated_titles = video_metrics_df[video_metrics_df['title'].duplicated()]['title']\n",
    "print(duplicated_titles.to_list())\n",
    "video_metrics_df[video_metrics_df['title'].isin(duplicated_titles)]"
   ]
  },
  {
   "cell_type": "markdown",
   "metadata": {},
   "source": [
    "Nothing unusual here, all duplicated titles have different values in other columns. \n",
    "\n",
    "The only exception is the first set of videos which share the same title and description, but since these were from steams on back-to-back days most likely the title was re-used."
   ]
  },
  {
   "cell_type": "markdown",
   "metadata": {},
   "source": [
    "Finally let's look for missing values."
   ]
  },
  {
   "cell_type": "code",
   "execution_count": 25,
   "metadata": {},
   "outputs": [
    {
     "name": "stdout",
     "output_type": "stream",
     "text": [
      "channel_name      0\n",
      "video_id          0\n",
      "title             0\n",
      "published_at      0\n",
      "description      18\n",
      "thumbnail_url     0\n",
      "tags              0\n",
      "category_id       0\n",
      "duration          0\n",
      "view_count        0\n",
      "like_count        0\n",
      "fav_count         0\n",
      "comment_count     0\n",
      "dtype: int64\n"
     ]
    }
   ],
   "source": [
    "print(video_metrics_df.isna().sum())"
   ]
  },
  {
   "cell_type": "code",
   "execution_count": 28,
   "metadata": {},
   "outputs": [
    {
     "data": {
      "text/html": [
       "<div>\n",
       "<style scoped>\n",
       "    .dataframe tbody tr th:only-of-type {\n",
       "        vertical-align: middle;\n",
       "    }\n",
       "\n",
       "    .dataframe tbody tr th {\n",
       "        vertical-align: top;\n",
       "    }\n",
       "\n",
       "    .dataframe thead th {\n",
       "        text-align: right;\n",
       "    }\n",
       "</style>\n",
       "<table border=\"1\" class=\"dataframe\">\n",
       "  <thead>\n",
       "    <tr style=\"text-align: right;\">\n",
       "      <th></th>\n",
       "      <th>channel_name</th>\n",
       "      <th>video_id</th>\n",
       "      <th>title</th>\n",
       "      <th>published_at</th>\n",
       "      <th>description</th>\n",
       "      <th>thumbnail_url</th>\n",
       "      <th>tags</th>\n",
       "      <th>category_id</th>\n",
       "      <th>duration</th>\n",
       "      <th>view_count</th>\n",
       "      <th>like_count</th>\n",
       "      <th>fav_count</th>\n",
       "      <th>comment_count</th>\n",
       "    </tr>\n",
       "  </thead>\n",
       "  <tbody>\n",
       "    <tr>\n",
       "      <th>63</th>\n",
       "      <td>Why I Salty</td>\n",
       "      <td>xUOy06kZMAw</td>\n",
       "      <td>Raven Please..</td>\n",
       "      <td>2023-10-01T21:08:07Z</td>\n",
       "      <td>NaN</td>\n",
       "      <td>https://i.ytimg.com/vi/xUOy06kZMAw/default.jpg</td>\n",
       "      <td>none</td>\n",
       "      <td>20</td>\n",
       "      <td>PT59S</td>\n",
       "      <td>9259</td>\n",
       "      <td>638</td>\n",
       "      <td>0</td>\n",
       "      <td>21</td>\n",
       "    </tr>\n",
       "    <tr>\n",
       "      <th>67</th>\n",
       "      <td>Why I Salty</td>\n",
       "      <td>yRCX_zCiBZ0</td>\n",
       "      <td>Got a Job For you 621 (5) #armoredcore6 #armor...</td>\n",
       "      <td>2023-09-30T20:57:58Z</td>\n",
       "      <td>NaN</td>\n",
       "      <td>https://i.ytimg.com/vi/yRCX_zCiBZ0/default.jpg</td>\n",
       "      <td>none</td>\n",
       "      <td>20</td>\n",
       "      <td>PT1M</td>\n",
       "      <td>4729</td>\n",
       "      <td>498</td>\n",
       "      <td>0</td>\n",
       "      <td>22</td>\n",
       "    </tr>\n",
       "    <tr>\n",
       "      <th>68</th>\n",
       "      <td>Why I Salty</td>\n",
       "      <td>rZdzszUyav8</td>\n",
       "      <td>Got a Job For you 621 (4) #armoredcore6 #armor...</td>\n",
       "      <td>2023-09-30T20:44:24Z</td>\n",
       "      <td>NaN</td>\n",
       "      <td>https://i.ytimg.com/vi/rZdzszUyav8/default.jpg</td>\n",
       "      <td>none</td>\n",
       "      <td>20</td>\n",
       "      <td>PT49S</td>\n",
       "      <td>4742</td>\n",
       "      <td>524</td>\n",
       "      <td>0</td>\n",
       "      <td>16</td>\n",
       "    </tr>\n",
       "    <tr>\n",
       "      <th>69</th>\n",
       "      <td>Why I Salty</td>\n",
       "      <td>1vSUQfUB66Q</td>\n",
       "      <td>Got a Job For you 621 (3) #armoredcore6 #armor...</td>\n",
       "      <td>2023-09-30T20:29:00Z</td>\n",
       "      <td>NaN</td>\n",
       "      <td>https://i.ytimg.com/vi/1vSUQfUB66Q/default.jpg</td>\n",
       "      <td>none</td>\n",
       "      <td>20</td>\n",
       "      <td>PT17S</td>\n",
       "      <td>3894</td>\n",
       "      <td>242</td>\n",
       "      <td>0</td>\n",
       "      <td>6</td>\n",
       "    </tr>\n",
       "    <tr>\n",
       "      <th>70</th>\n",
       "      <td>Why I Salty</td>\n",
       "      <td>9Er61UwlIF4</td>\n",
       "      <td>Got A Job For You 621 (1) #armoredcore6 #armor...</td>\n",
       "      <td>2023-09-30T20:09:57Z</td>\n",
       "      <td>NaN</td>\n",
       "      <td>https://i.ytimg.com/vi/9Er61UwlIF4/default.jpg</td>\n",
       "      <td>none</td>\n",
       "      <td>20</td>\n",
       "      <td>PT15S</td>\n",
       "      <td>3177</td>\n",
       "      <td>242</td>\n",
       "      <td>0</td>\n",
       "      <td>4</td>\n",
       "    </tr>\n",
       "  </tbody>\n",
       "</table>\n",
       "</div>"
      ],
      "text/plain": [
       "   channel_name     video_id  \\\n",
       "63  Why I Salty  xUOy06kZMAw   \n",
       "67  Why I Salty  yRCX_zCiBZ0   \n",
       "68  Why I Salty  rZdzszUyav8   \n",
       "69  Why I Salty  1vSUQfUB66Q   \n",
       "70  Why I Salty  9Er61UwlIF4   \n",
       "\n",
       "                                                title          published_at  \\\n",
       "63                                     Raven Please..  2023-10-01T21:08:07Z   \n",
       "67  Got a Job For you 621 (5) #armoredcore6 #armor...  2023-09-30T20:57:58Z   \n",
       "68  Got a Job For you 621 (4) #armoredcore6 #armor...  2023-09-30T20:44:24Z   \n",
       "69  Got a Job For you 621 (3) #armoredcore6 #armor...  2023-09-30T20:29:00Z   \n",
       "70  Got A Job For You 621 (1) #armoredcore6 #armor...  2023-09-30T20:09:57Z   \n",
       "\n",
       "   description                                   thumbnail_url  tags  \\\n",
       "63         NaN  https://i.ytimg.com/vi/xUOy06kZMAw/default.jpg  none   \n",
       "67         NaN  https://i.ytimg.com/vi/yRCX_zCiBZ0/default.jpg  none   \n",
       "68         NaN  https://i.ytimg.com/vi/rZdzszUyav8/default.jpg  none   \n",
       "69         NaN  https://i.ytimg.com/vi/1vSUQfUB66Q/default.jpg  none   \n",
       "70         NaN  https://i.ytimg.com/vi/9Er61UwlIF4/default.jpg  none   \n",
       "\n",
       "   category_id duration  view_count  like_count  fav_count  comment_count  \n",
       "63          20    PT59S        9259         638          0             21  \n",
       "67          20     PT1M        4729         498          0             22  \n",
       "68          20    PT49S        4742         524          0             16  \n",
       "69          20    PT17S        3894         242          0              6  \n",
       "70          20    PT15S        3177         242          0              4  "
      ]
     },
     "execution_count": 28,
     "metadata": {},
     "output_type": "execute_result"
    }
   ],
   "source": [
    "video_metrics_df[video_metrics_df['description'].isna()].head()"
   ]
  },
  {
   "cell_type": "markdown",
   "metadata": {},
   "source": [
    "Doing a quick check on YouTube shows that NaN values correspond with videos that had no description provided. We'll update this as 'No description provided' to remove any confusion."
   ]
  },
  {
   "cell_type": "code",
   "execution_count": 33,
   "metadata": {},
   "outputs": [
    {
     "name": "stdout",
     "output_type": "stream",
     "text": [
      "count                         508\n",
      "unique                        462\n",
      "top       No description provided\n",
      "freq                           18\n",
      "Name: description, dtype: object\n"
     ]
    }
   ],
   "source": [
    "video_metrics_df['description'] = video_metrics_df['description'].replace(np.nan, 'No description provided')\n",
    "print(video_metrics_df['description'].describe())"
   ]
  },
  {
   "cell_type": "markdown",
   "metadata": {},
   "source": [
    "Now let's repeat the process with the video_comments_df."
   ]
  },
  {
   "cell_type": "code",
   "execution_count": 34,
   "metadata": {},
   "outputs": [
    {
     "data": {
      "text/plain": [
       "video_id                   object\n",
       "video_comment              object\n",
       "video_comment_user         object\n",
       "video_comment_time         object\n",
       "video_comment_parent_id    object\n",
       "video_comment_child_id     object\n",
       "dtype: object"
      ]
     },
     "execution_count": 34,
     "metadata": {},
     "output_type": "execute_result"
    }
   ],
   "source": [
    "video_comments_df.dtypes"
   ]
  },
  {
   "cell_type": "code",
   "execution_count": 35,
   "metadata": {},
   "outputs": [
    {
     "data": {
      "text/html": [
       "<div>\n",
       "<style scoped>\n",
       "    .dataframe tbody tr th:only-of-type {\n",
       "        vertical-align: middle;\n",
       "    }\n",
       "\n",
       "    .dataframe tbody tr th {\n",
       "        vertical-align: top;\n",
       "    }\n",
       "\n",
       "    .dataframe thead th {\n",
       "        text-align: right;\n",
       "    }\n",
       "</style>\n",
       "<table border=\"1\" class=\"dataframe\">\n",
       "  <thead>\n",
       "    <tr style=\"text-align: right;\">\n",
       "      <th></th>\n",
       "      <th>video_id</th>\n",
       "      <th>video_comment</th>\n",
       "      <th>video_comment_user</th>\n",
       "      <th>video_comment_time</th>\n",
       "      <th>video_comment_parent_id</th>\n",
       "      <th>video_comment_child_id</th>\n",
       "    </tr>\n",
       "  </thead>\n",
       "  <tbody>\n",
       "    <tr>\n",
       "      <th>count</th>\n",
       "      <td>2192</td>\n",
       "      <td>2044</td>\n",
       "      <td>2043</td>\n",
       "      <td>2044</td>\n",
       "      <td>2044</td>\n",
       "      <td>2044</td>\n",
       "    </tr>\n",
       "    <tr>\n",
       "      <th>unique</th>\n",
       "      <td>508</td>\n",
       "      <td>2016</td>\n",
       "      <td>918</td>\n",
       "      <td>2044</td>\n",
       "      <td>1536</td>\n",
       "      <td>509</td>\n",
       "    </tr>\n",
       "    <tr>\n",
       "      <th>top</th>\n",
       "      <td>t3y4vt9kkoc</td>\n",
       "      <td>Nice</td>\n",
       "      <td>Why I Salty</td>\n",
       "      <td>2020-07-11T15:34:16Z</td>\n",
       "      <td>UgyB03KENb3uiX5Zafx4AaABAg</td>\n",
       "      <td>0</td>\n",
       "    </tr>\n",
       "    <tr>\n",
       "      <th>freq</th>\n",
       "      <td>36</td>\n",
       "      <td>5</td>\n",
       "      <td>252</td>\n",
       "      <td>1</td>\n",
       "      <td>6</td>\n",
       "      <td>1536</td>\n",
       "    </tr>\n",
       "  </tbody>\n",
       "</table>\n",
       "</div>"
      ],
      "text/plain": [
       "           video_id video_comment video_comment_user    video_comment_time  \\\n",
       "count          2192          2044               2043                  2044   \n",
       "unique          508          2016                918                  2044   \n",
       "top     t3y4vt9kkoc          Nice        Why I Salty  2020-07-11T15:34:16Z   \n",
       "freq             36             5                252                     1   \n",
       "\n",
       "           video_comment_parent_id video_comment_child_id  \n",
       "count                         2044                   2044  \n",
       "unique                        1536                    509  \n",
       "top     UgyB03KENb3uiX5Zafx4AaABAg                      0  \n",
       "freq                             6                   1536  "
      ]
     },
     "execution_count": 35,
     "metadata": {},
     "output_type": "execute_result"
    }
   ],
   "source": [
    "video_comments_df.describe()"
   ]
  },
  {
   "cell_type": "code",
   "execution_count": 36,
   "metadata": {},
   "outputs": [
    {
     "name": "stdout",
     "output_type": "stream",
     "text": [
      "channel_name     0\n",
      "video_id         0\n",
      "title            0\n",
      "published_at     0\n",
      "description      0\n",
      "thumbnail_url    0\n",
      "tags             0\n",
      "category_id      0\n",
      "duration         0\n",
      "view_count       0\n",
      "like_count       0\n",
      "fav_count        0\n",
      "comment_count    0\n",
      "dtype: int64\n"
     ]
    }
   ],
   "source": [
    "print(video_metrics_df.isna().sum())"
   ]
  },
  {
   "cell_type": "markdown",
   "metadata": {},
   "source": [
    "Everything looks good! Lets save these tables and ingest into a SQL database for subsequent analysis"
   ]
  },
  {
   "cell_type": "code",
   "execution_count": 38,
   "metadata": {},
   "outputs": [],
   "source": [
    "video_comments_df.to_csv('csv/video_comments_cleaned.csv')\n",
    "video_metrics_df.to_csv('csv/video_metrics_cleaned.csv')"
   ]
  }
 ],
 "metadata": {
  "kernelspec": {
   "display_name": "Python 3",
   "language": "python",
   "name": "python3"
  },
  "language_info": {
   "codemirror_mode": {
    "name": "ipython",
    "version": 3
   },
   "file_extension": ".py",
   "mimetype": "text/x-python",
   "name": "python",
   "nbconvert_exporter": "python",
   "pygments_lexer": "ipython3",
   "version": "3.8.8"
  }
 },
 "nbformat": 4,
 "nbformat_minor": 2
}
